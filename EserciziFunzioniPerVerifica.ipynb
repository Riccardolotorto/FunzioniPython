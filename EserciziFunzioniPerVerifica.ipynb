{
  "nbformat": 4,
  "nbformat_minor": 0,
  "metadata": {
    "colab": {
      "provenance": [],
      "authorship_tag": "ABX9TyNF0Z1nLPy3CVDj+8aNvue1",
      "include_colab_link": true
    },
    "kernelspec": {
      "name": "python3",
      "display_name": "Python 3"
    },
    "language_info": {
      "name": "python"
    }
  },
  "cells": [
    {
      "cell_type": "markdown",
      "metadata": {
        "id": "view-in-github",
        "colab_type": "text"
      },
      "source": [
        "<a href=\"https://colab.research.google.com/github/Riccardolotorto/FunzioniPython/blob/main/EserciziFunzioniPerVerifica.ipynb\" target=\"_parent\"><img src=\"https://colab.research.google.com/assets/colab-badge.svg\" alt=\"Open In Colab\"/></a>"
      ]
    },
    {
      "cell_type": "code",
      "execution_count": null,
      "metadata": {
        "id": "cPTm5dv3grfc"
      },
      "outputs": [],
      "source": [
        "#Scrivi una funzione che prenda in input una stringa e restituisca il numero di vocali presenti nella stringa.\n",
        "def conto_vocali(stringa):\n",
        "  conto = 0\n",
        "  for carattere in stringa:\n",
        "    if carattere in [\"a\", \"e\", \"i\", \"o\", \"u\"]:\n",
        "      conto += 1\n",
        "  return conto"
      ]
    },
    {
      "cell_type": "code",
      "source": [
        "conto_vocali(\"Riccardo\")"
      ],
      "metadata": {
        "colab": {
          "base_uri": "https://localhost:8080/"
        },
        "id": "PP7VYL1LhIKY",
        "outputId": "316f2c02-29d0-4d53-9904-1fb03fc0cd0d"
      },
      "execution_count": null,
      "outputs": [
        {
          "output_type": "execute_result",
          "data": {
            "text/plain": [
              "3"
            ]
          },
          "metadata": {},
          "execution_count": 2
        }
      ]
    },
    {
      "cell_type": "code",
      "source": [
        "#Scrivi una funzione che prenda in input una lista di parole e restituisca la parola più lunga presente nella lista.\n",
        "def max_parola(lista):\n",
        "  lunghezze_parole = {parola: len(parola) for parola in lista}\n",
        "  return max(lunghezze_parole, key = lunghezze_parole.get)"
      ],
      "metadata": {
        "id": "eTvxB_-chNaL"
      },
      "execution_count": 7,
      "outputs": []
    },
    {
      "cell_type": "code",
      "source": [
        "max_parola([\"Ciao\", \"Antonio\", \"Massimiliano\", \"Riccardo\"])"
      ],
      "metadata": {
        "colab": {
          "base_uri": "https://localhost:8080/",
          "height": 36
        },
        "id": "2TDH0tvChvQd",
        "outputId": "f3bd5663-482c-4211-96c2-f88dcd8266fb"
      },
      "execution_count": 8,
      "outputs": [
        {
          "output_type": "execute_result",
          "data": {
            "text/plain": [
              "'Massimiliano'"
            ],
            "application/vnd.google.colaboratory.intrinsic+json": {
              "type": "string"
            }
          },
          "metadata": {},
          "execution_count": 8
        }
      ]
    },
    {
      "cell_type": "code",
      "source": [
        "#Scrivi una funzione che trovi il seno di un angolo\n",
        "def seno(cateto, ipotenusa):\n",
        "  return cateto / ipotenusa"
      ],
      "metadata": {
        "id": "_CGV00a6g-FL"
      },
      "execution_count": 14,
      "outputs": []
    },
    {
      "cell_type": "code",
      "source": [
        "seno(35, 40)"
      ],
      "metadata": {
        "colab": {
          "base_uri": "https://localhost:8080/"
        },
        "id": "oqaTmw90hsJG",
        "outputId": "ddd72954-289f-40f1-e09d-0e094cc50994"
      },
      "execution_count": 17,
      "outputs": [
        {
          "output_type": "execute_result",
          "data": {
            "text/plain": [
              "0.875"
            ]
          },
          "metadata": {},
          "execution_count": 17
        }
      ]
    },
    {
      "cell_type": "code",
      "source": [
        "#Scrivi una funzione che trovi la circonferenza\n",
        "def circonferenza(diametro, pigreco = 3.14):\n",
        "  return diametro * pigreco"
      ],
      "metadata": {
        "id": "PtQ0cY9fiYsU"
      },
      "execution_count": 18,
      "outputs": []
    },
    {
      "cell_type": "code",
      "source": [
        "circonferenza(32)"
      ],
      "metadata": {
        "colab": {
          "base_uri": "https://localhost:8080/"
        },
        "id": "6HYfgzuRjIy0",
        "outputId": "54e36646-7122-47cc-c5d2-c1e613bd935c"
      },
      "execution_count": 19,
      "outputs": [
        {
          "output_type": "execute_result",
          "data": {
            "text/plain": [
              "100.48"
            ]
          },
          "metadata": {},
          "execution_count": 19
        }
      ]
    },
    {
      "cell_type": "code",
      "source": [
        "#Scrivi una funzione che calcoli l'area di un cerchio\n",
        "def area_cerchio(raggio, pigreco = 3.14):\n",
        "  return (raggio**2) * pigreco"
      ],
      "metadata": {
        "id": "p9qszBBjjOP9"
      },
      "execution_count": 20,
      "outputs": []
    },
    {
      "cell_type": "code",
      "source": [
        "area_cerchio(16)"
      ],
      "metadata": {
        "colab": {
          "base_uri": "https://localhost:8080/"
        },
        "id": "AoNu7HxIjh7i",
        "outputId": "16bfed11-9692-4c5b-9b73-dcb5a55f0cd2"
      },
      "execution_count": 21,
      "outputs": [
        {
          "output_type": "execute_result",
          "data": {
            "text/plain": [
              "803.84"
            ]
          },
          "metadata": {},
          "execution_count": 21
        }
      ]
    },
    {
      "cell_type": "code",
      "source": [
        "#Scrivi funzione che calcoli l'area di un cilindro\n",
        "def area_cilindro(diametro, h, pigreco = 3.14):\n",
        "  return circonferenza(diametro) * h"
      ],
      "metadata": {
        "id": "c-em9xyfjuCP"
      },
      "execution_count": 25,
      "outputs": []
    },
    {
      "cell_type": "code",
      "source": [
        "area_cilindro(32, 10)"
      ],
      "metadata": {
        "colab": {
          "base_uri": "https://localhost:8080/"
        },
        "id": "xrhEQVuYkKqN",
        "outputId": "850f6056-bce2-41d8-a022-9988badf93f6"
      },
      "execution_count": 26,
      "outputs": [
        {
          "output_type": "execute_result",
          "data": {
            "text/plain": [
              "1004.8000000000001"
            ]
          },
          "metadata": {},
          "execution_count": 26
        }
      ]
    },
    {
      "cell_type": "code",
      "source": [
        "#Scrivi un programma che mostri tutti i risultati usando le funzioni precedentemente create\n",
        "scelta = input(\"Decidi se scegliere il cerchio o il cilindro \")\n",
        "if scelta == \"cerchio\":\n",
        "  diametro = float(input(\"inserisci il valore del diametro \"))\n",
        "  print(f\"La circonferenza del cerchio misura {circonferenza(diametro)}\")\n",
        "  raggio = float(input(\"inserisci il valore del raggio \"))\n",
        "  print(f\"L'area del cerchio misura {area_cerchio(raggio)}\")\n",
        "elif scelta == \"cilindro\":\n",
        "  altezza = float(input(\"inserisci il valore dell'altezza \"))\n",
        "  d = float(input(\"inserisci il valore del diametro \"))\n",
        "  print(f\"La superficie del cilindro misura {area_cilindro(d, altezza)}\")\n",
        "else:\n",
        "  print(\"valore sbagliato\")"
      ],
      "metadata": {
        "colab": {
          "base_uri": "https://localhost:8080/"
        },
        "id": "m-3VAmI4keSP",
        "outputId": "03661ae7-8866-4b5b-bf5f-7ee87c7a0d8a"
      },
      "execution_count": 27,
      "outputs": [
        {
          "output_type": "stream",
          "name": "stdout",
          "text": [
            "Decidi se scegliere il cerchio o il cilindro cerchio\n",
            "inserisci il valore del diametro 16\n",
            "La circonferenza del cerchio misura 50.24\n",
            "inserisci il valore del raggio 8\n",
            "L'area del cerchio misura 200.96\n"
          ]
        }
      ]
    },
    {
      "cell_type": "code",
      "source": [
        "#Scrivi una funzione che trovi l'intruso (il numero presente in una lista di stringhe)\n",
        "def intruso(lista):\n",
        "  ecco = 0\n",
        "  for elemento in lista:\n",
        "    if elemento in list(range(32656000)): #qui bisognerebbe mettere il limite di int di python\n",
        "      ecco = elemento\n",
        "  return ecco"
      ],
      "metadata": {
        "id": "Go7SVQYzl7L0"
      },
      "execution_count": 32,
      "outputs": []
    },
    {
      "cell_type": "code",
      "source": [
        "intruso([\"ciao\", 9, \"luca\", \"inter\"])"
      ],
      "metadata": {
        "colab": {
          "base_uri": "https://localhost:8080/"
        },
        "id": "lEZnArjxnhGG",
        "outputId": "3f078a92-0561-4a7d-c2f0-323328164eb1"
      },
      "execution_count": 33,
      "outputs": [
        {
          "output_type": "execute_result",
          "data": {
            "text/plain": [
              "9"
            ]
          },
          "metadata": {},
          "execution_count": 33
        }
      ]
    },
    {
      "cell_type": "code",
      "source": [
        "#Scrivi una funzione che dica se un numero è intero o decimale\n",
        "def dec_int(numero):\n",
        "  if numero == int(numero):\n",
        "    return \"intero\"\n",
        "  elif numero == float(numero):\n",
        "    return \"decimale\"\n",
        "  else:\n",
        "    return \"errore\""
      ],
      "metadata": {
        "id": "60mGoJddoN6z"
      },
      "execution_count": 36,
      "outputs": []
    },
    {
      "cell_type": "code",
      "source": [
        "dec_int(7)"
      ],
      "metadata": {
        "colab": {
          "base_uri": "https://localhost:8080/",
          "height": 36
        },
        "id": "72w9hotvosPw",
        "outputId": "8ee341aa-2a77-42e0-d051-bc3ca9b845c0"
      },
      "execution_count": 43,
      "outputs": [
        {
          "output_type": "execute_result",
          "data": {
            "text/plain": [
              "'intero'"
            ],
            "application/vnd.google.colaboratory.intrinsic+json": {
              "type": "string"
            }
          },
          "metadata": {},
          "execution_count": 43
        }
      ]
    },
    {
      "cell_type": "code",
      "source": [
        "#Scrivi una funzione che renda maiuscola una stringa\n",
        "def maiuscola(stringa):\n",
        "  return stringa.upper()"
      ],
      "metadata": {
        "id": "K-TpbtnW3ZsT"
      },
      "execution_count": 44,
      "outputs": []
    },
    {
      "cell_type": "code",
      "source": [
        "maiuscola(\"ciao\")"
      ],
      "metadata": {
        "colab": {
          "base_uri": "https://localhost:8080/",
          "height": 36
        },
        "id": "-_Vm4ubr3olT",
        "outputId": "08a88a8e-1553-4518-961c-6fe61ffbdb8b"
      },
      "execution_count": 45,
      "outputs": [
        {
          "output_type": "execute_result",
          "data": {
            "text/plain": [
              "'CIAO'"
            ],
            "application/vnd.google.colaboratory.intrinsic+json": {
              "type": "string"
            }
          },
          "metadata": {},
          "execution_count": 45
        }
      ]
    },
    {
      "cell_type": "code",
      "source": [
        "#Scrivi una funzione che trovi le parole di una lista che inziano per la lettera inserita\n",
        "def trova(lista, iniziale):\n",
        "  listaIniziali = []\n",
        "  for p in lista:\n",
        "    if p.startswith(iniziale):\n",
        "      listaIniziali.append(p)\n",
        "  return listaIniziali"
      ],
      "metadata": {
        "id": "cb4DzbX73rLC"
      },
      "execution_count": 46,
      "outputs": []
    },
    {
      "cell_type": "code",
      "source": [
        "trova([\"torino\", \"milano\", \"toronto\", \"roma\", \"ravenna\"], \"t\")"
      ],
      "metadata": {
        "colab": {
          "base_uri": "https://localhost:8080/"
        },
        "id": "RdpezKnH4HW7",
        "outputId": "e73c2b6c-b98e-4f6a-b5a4-f543253b29c6"
      },
      "execution_count": 47,
      "outputs": [
        {
          "output_type": "execute_result",
          "data": {
            "text/plain": [
              "['torino', 'toronto']"
            ]
          },
          "metadata": {},
          "execution_count": 47
        }
      ]
    },
    {
      "cell_type": "code",
      "source": [
        "#Scrivi una funzione che calcoli il perimetro di un triangolo\n",
        "def perimetro_triangolo(lato1, lato2, lato3):\n",
        "  return lato1 + lato2 + lato3"
      ],
      "metadata": {
        "id": "ryJgHCz44SGm"
      },
      "execution_count": 48,
      "outputs": []
    },
    {
      "cell_type": "code",
      "source": [
        "perimetro_triangolo(5, 6, 7)"
      ],
      "metadata": {
        "colab": {
          "base_uri": "https://localhost:8080/"
        },
        "id": "LMGpa17K4wuV",
        "outputId": "1ed47c17-fe66-452a-8231-35400f0142f9"
      },
      "execution_count": 49,
      "outputs": [
        {
          "output_type": "execute_result",
          "data": {
            "text/plain": [
              "18"
            ]
          },
          "metadata": {},
          "execution_count": 49
        }
      ]
    },
    {
      "cell_type": "code",
      "source": [
        "#Scrivi una funzione che calcoli l'area di un triangolo\n",
        "def areaTriangolo(base, altezza):\n",
        "  return (base * altezza) // 2"
      ],
      "metadata": {
        "id": "pLzbNQEH5ECX"
      },
      "execution_count": 50,
      "outputs": []
    },
    {
      "cell_type": "code",
      "source": [
        "areaTriangolo(4, 5)"
      ],
      "metadata": {
        "colab": {
          "base_uri": "https://localhost:8080/"
        },
        "id": "68xtm0RH5Ngt",
        "outputId": "f46ce975-d07c-4df6-decb-dc7d5c3017ea"
      },
      "execution_count": 51,
      "outputs": [
        {
          "output_type": "execute_result",
          "data": {
            "text/plain": [
              "10"
            ]
          },
          "metadata": {},
          "execution_count": 51
        }
      ]
    },
    {
      "cell_type": "code",
      "source": [
        "#Scrivi una funzione che faccia la media di tutti i numeri presenti in una lista\n",
        "def media(lista):\n",
        "  somma = 0\n",
        "  for numero in lista:\n",
        "    somma += numero\n",
        "  return somma / len(lista)"
      ],
      "metadata": {
        "id": "bQUjAeMP5TaS"
      },
      "execution_count": 53,
      "outputs": []
    },
    {
      "cell_type": "code",
      "source": [
        "media([30, 40, 50])"
      ],
      "metadata": {
        "colab": {
          "base_uri": "https://localhost:8080/"
        },
        "id": "up1QX8WS6Jzy",
        "outputId": "3ba95ce4-aa07-418e-aba3-ee243c77be9a"
      },
      "execution_count": 54,
      "outputs": [
        {
          "output_type": "execute_result",
          "data": {
            "text/plain": [
              "40.0"
            ]
          },
          "metadata": {},
          "execution_count": 54
        }
      ]
    },
    {
      "cell_type": "code",
      "source": [
        "#Scrivi funzione che trovi il minimo tra due numeri\n",
        "def minimo(a, b):\n",
        "  if a < b:\n",
        "    return a\n",
        "  elif a == b:\n",
        "    return 0\n",
        "  else:\n",
        "    return b"
      ],
      "metadata": {
        "id": "0pqoVL186Qy2"
      },
      "execution_count": 55,
      "outputs": []
    },
    {
      "cell_type": "code",
      "source": [
        "minimo(30, 4)"
      ],
      "metadata": {
        "colab": {
          "base_uri": "https://localhost:8080/"
        },
        "id": "QbOaJqJp6qjX",
        "outputId": "9ba05c60-40fd-4fea-eedb-1316fceac6ac"
      },
      "execution_count": 56,
      "outputs": [
        {
          "output_type": "execute_result",
          "data": {
            "text/plain": [
              "4"
            ]
          },
          "metadata": {},
          "execution_count": 56
        }
      ]
    },
    {
      "cell_type": "code",
      "source": [
        "#Scrivi funzione che trovi il minimo in una lista\n",
        "def minimoLista(lista):\n",
        "  min = lista[0]\n",
        "  for num in lista:\n",
        "    if num < min:\n",
        "      min = num\n",
        "  return min"
      ],
      "metadata": {
        "id": "J4LDJaFx6tvX"
      },
      "execution_count": 57,
      "outputs": []
    },
    {
      "cell_type": "code",
      "source": [
        "minimoLista([20, 6, 3, 400, 54])"
      ],
      "metadata": {
        "colab": {
          "base_uri": "https://localhost:8080/"
        },
        "id": "MVkv_3zG7Dou",
        "outputId": "3dffa511-b25e-4de2-f17f-54e8f3b643f3"
      },
      "execution_count": 58,
      "outputs": [
        {
          "output_type": "execute_result",
          "data": {
            "text/plain": [
              "3"
            ]
          },
          "metadata": {},
          "execution_count": 58
        }
      ]
    }
  ]
}