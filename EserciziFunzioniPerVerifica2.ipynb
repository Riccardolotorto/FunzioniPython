{
  "nbformat": 4,
  "nbformat_minor": 0,
  "metadata": {
    "colab": {
      "provenance": [],
      "authorship_tag": "ABX9TyPs9d7uVYYKe+Jtb8rtBbjN",
      "include_colab_link": true
    },
    "kernelspec": {
      "name": "python3",
      "display_name": "Python 3"
    },
    "language_info": {
      "name": "python"
    }
  },
  "cells": [
    {
      "cell_type": "markdown",
      "metadata": {
        "id": "view-in-github",
        "colab_type": "text"
      },
      "source": [
        "<a href=\"https://colab.research.google.com/github/Riccardolotorto/FunzioniPython/blob/main/EserciziFunzioniPerVerifica2.ipynb\" target=\"_parent\"><img src=\"https://colab.research.google.com/assets/colab-badge.svg\" alt=\"Open In Colab\"/></a>"
      ]
    },
    {
      "cell_type": "markdown",
      "source": [
        "1. realizzare una funzione chiamata lancio del Dado che lanci un dado restituendo un numero da 1 a 6"
      ],
      "metadata": {
        "id": "pg1ZoV-oGNY1"
      }
    },
    {
      "cell_type": "code",
      "source": [
        "def lancioDado():\n",
        "  import random\n",
        "  return random.randint(1, 6)"
      ],
      "metadata": {
        "id": "HEQnq6YKGJNb"
      },
      "execution_count": 9,
      "outputs": []
    },
    {
      "cell_type": "code",
      "source": [
        "lancioDado()"
      ],
      "metadata": {
        "colab": {
          "base_uri": "https://localhost:8080/"
        },
        "id": "MvO-9VGRG25k",
        "outputId": "d9f4b14c-4819-4471-8474-7dec7ca2b407"
      },
      "execution_count": 10,
      "outputs": [
        {
          "output_type": "execute_result",
          "data": {
            "text/plain": [
              "6"
            ]
          },
          "metadata": {},
          "execution_count": 10
        }
      ]
    },
    {
      "cell_type": "markdown",
      "source": [
        "2. realizzare un funzione lascio tre dadi che usando la funzione precedente restituisca il lancio di 3 dadi"
      ],
      "metadata": {
        "id": "Bd0-xk2PG5qz"
      }
    },
    {
      "cell_type": "code",
      "source": [
        "def lancio3Dadi():\n",
        "  import random\n",
        "  return [lancioDado(), lancioDado(), lancioDado()]"
      ],
      "metadata": {
        "id": "cWiJQDQ7G5Pe"
      },
      "execution_count": 14,
      "outputs": []
    },
    {
      "cell_type": "code",
      "source": [
        "lancio3Dadi()"
      ],
      "metadata": {
        "colab": {
          "base_uri": "https://localhost:8080/"
        },
        "id": "Mn_VWpAtHFna",
        "outputId": "437b7150-ff2b-447f-b388-43ca00f5814c"
      },
      "execution_count": 15,
      "outputs": [
        {
          "output_type": "execute_result",
          "data": {
            "text/plain": [
              "[6, 2, 1]"
            ]
          },
          "metadata": {},
          "execution_count": 15
        }
      ]
    },
    {
      "cell_type": "markdown",
      "source": [
        "3. realizzare la funzione (controlla chi vince) che sulla base delle regole di Risiko dica quante armate vengono perse da chi attacca e chi difende,  due parametri, lista"
      ],
      "metadata": {
        "id": "mDjpzjAlHRY9"
      }
    },
    {
      "cell_type": "code",
      "source": [
        "def controllo(attacco, difesa):\n",
        "  attacco.sort()\n",
        "  difesa.sort()\n",
        "  puntiAttacco = 0\n",
        "  puntiDifesa = 0\n",
        "  for i in range(3):\n",
        "    if attacco[i] > difesa[i]:\n",
        "      puntiDifesa -= 1\n",
        "    else:\n",
        "      puntiAttacco -= 1\n",
        "  return puntiAttacco, puntiDifesa"
      ],
      "metadata": {
        "id": "JSYzrmiTHTbr"
      },
      "execution_count": 18,
      "outputs": []
    },
    {
      "cell_type": "code",
      "source": [
        "giocatoreAttacco = lancio3Dadi()\n",
        "giocatoreDifesa = lancio3Dadi()\n",
        "print(giocatoreAttacco,giocatoreDifesa)\n",
        "print(controllo(giocatoreAttacco,giocatoreDifesa))"
      ],
      "metadata": {
        "colab": {
          "base_uri": "https://localhost:8080/"
        },
        "id": "dNGkBz3xIpX9",
        "outputId": "b292cd8a-db20-440d-b60d-79a0bca904a3"
      },
      "execution_count": 22,
      "outputs": [
        {
          "output_type": "stream",
          "name": "stdout",
          "text": [
            "[5, 4, 4] [1, 2, 6]\n",
            "(-1, -2)\n"
          ]
        }
      ]
    },
    {
      "cell_type": "markdown",
      "source": [
        "4. realizzare una funzione che permetta di generare i numeri di posizione degli interrogati di una classe. la funzione ha come parametro il numero degli studenti della classe e il numero degli studenti che devono essere interrogati e restituisce la posizone sul registro degli studenti da interrogare(5)"
      ],
      "metadata": {
        "id": "oLTdSvB3I1IJ"
      }
    },
    {
      "cell_type": "code",
      "source": [
        "def interrogazione(classe, interrogati):\n",
        "  import random\n",
        "  listaInterrogati = [random.randint(1, classe) for num in range(interrogati)]\n",
        "  return listaInterrogati"
      ],
      "metadata": {
        "id": "Dn3B-gOOI4DM"
      },
      "execution_count": 23,
      "outputs": []
    },
    {
      "cell_type": "code",
      "source": [
        "interrogazione(15, 4)"
      ],
      "metadata": {
        "colab": {
          "base_uri": "https://localhost:8080/"
        },
        "id": "vr8GOJL9Jo6V",
        "outputId": "1677755d-785d-4333-9e28-8322c63e7845"
      },
      "execution_count": 24,
      "outputs": [
        {
          "output_type": "execute_result",
          "data": {
            "text/plain": [
              "[3, 6, 15, 14]"
            ]
          },
          "metadata": {},
          "execution_count": 24
        }
      ]
    },
    {
      "cell_type": "markdown",
      "source": [
        "5. scrivere una funzione che converta una temperatura da gradi centigradi in gradi farehneit"
      ],
      "metadata": {
        "id": "fi5WVZvFJvQc"
      }
    },
    {
      "cell_type": "code",
      "source": [
        "def farehneit(gradiCelsius):\n",
        "  return (gradiCelsius * 1.8) + 32"
      ],
      "metadata": {
        "id": "FBHiSFXAJyav"
      },
      "execution_count": 25,
      "outputs": []
    },
    {
      "cell_type": "code",
      "source": [
        "farehneit(34)"
      ],
      "metadata": {
        "colab": {
          "base_uri": "https://localhost:8080/"
        },
        "id": "lgTo3m3OKCUQ",
        "outputId": "c2416f5f-2aef-4075-a21b-c7728b846eba"
      },
      "execution_count": 26,
      "outputs": [
        {
          "output_type": "execute_result",
          "data": {
            "text/plain": [
              "93.2"
            ]
          },
          "metadata": {},
          "execution_count": 26
        }
      ]
    },
    {
      "cell_type": "markdown",
      "source": [
        "6. scrivere una funzione che converta una temperatura da gradi farehneit a centrigradi"
      ],
      "metadata": {
        "id": "DeyQL30RKGdC"
      }
    },
    {
      "cell_type": "code",
      "source": [
        "def celsius(gradiFarehneit):\n",
        "  return (gradiFarehneit - 32) / 1.8"
      ],
      "metadata": {
        "id": "A0yBwIg_KMII"
      },
      "execution_count": 27,
      "outputs": []
    },
    {
      "cell_type": "code",
      "source": [
        "celsius(93.2)"
      ],
      "metadata": {
        "colab": {
          "base_uri": "https://localhost:8080/"
        },
        "id": "CugYs5sBKacg",
        "outputId": "6f32b322-87d0-4a80-e7fc-81038a3a020b"
      },
      "execution_count": 28,
      "outputs": [
        {
          "output_type": "execute_result",
          "data": {
            "text/plain": [
              "34.0"
            ]
          },
          "metadata": {},
          "execution_count": 28
        }
      ]
    },
    {
      "cell_type": "markdown",
      "source": [
        "7. scrivere una funzione che dato il nome di una regione restituisca il nome del capoluogo, la funzione deve restituire un valore nullo se la regione non è presente"
      ],
      "metadata": {
        "id": "zlIvnqBdKdJv"
      }
    },
    {
      "cell_type": "code",
      "source": [
        "def capoluogoRegione(nomeRegione):\n",
        "  regioni = [\"Abruzzo\", \"Basilicata\", \"Calabria\", \"Campania\", \"Emilia-Romagna\", \"Friuli Venezia Giulia\", \"Lazio\", \"Liguria\", \"Lombardia\", \"Marche\", \"Molise\", \"Piemonte\", \"Puglia\", \"Sardegna\", \"Sicilia\", \"Toscana\", \"Trentino-Alto Adige\", \"Umbria\", \"Valle d'Aosta\", \"Veneto\"]\n",
        "  capoluoghi = [\"Pescara\", \"Potenza\", \"Catanzaro\", \"Napoli\", \"Bologna\", \"Trieste\", \"Roma\", \"Genova\", \"Milano\", \"Ancona\", \"Campobasso\", \"Torino\", \"Bari\", \"Cagliari\", \"Palermo\", \"Firenze\", \"Trento\", \"Perugia\", \"Aosta\", \"Venezia\"]\n",
        "  if nomeRegione in regioni:\n",
        "    return capoluoghi[regioni.index(nomeRegione)]\n",
        "  else:\n",
        "    return \"Regione non presente\""
      ],
      "metadata": {
        "id": "sgxZXLmAKfLD"
      },
      "execution_count": 32,
      "outputs": []
    },
    {
      "cell_type": "code",
      "source": [
        "capoluogoRegione(\"t\")"
      ],
      "metadata": {
        "colab": {
          "base_uri": "https://localhost:8080/",
          "height": 36
        },
        "id": "iDOLQWAnM2wZ",
        "outputId": "0d2daa2b-bf8f-4596-f1c6-bd5efd1b477e"
      },
      "execution_count": 35,
      "outputs": [
        {
          "output_type": "execute_result",
          "data": {
            "text/plain": [
              "'Regione non presente'"
            ],
            "application/vnd.google.colaboratory.intrinsic+json": {
              "type": "string"
            }
          },
          "metadata": {},
          "execution_count": 35
        }
      ]
    },
    {
      "cell_type": "markdown",
      "source": [
        "8. realizzare una funzione che trovi dica se un numero è primo , usare la funzione deidivisori"
      ],
      "metadata": {
        "id": "p8DYQYfQNLtA"
      }
    },
    {
      "cell_type": "code",
      "source": [
        "def divisori(numero):\n",
        "  listaDivisori = []\n",
        "  for i in range(1, numero + 1):\n",
        "    if numero % i == 0:\n",
        "      listaDivisori.append(i)\n",
        "  return listaDivisori"
      ],
      "metadata": {
        "id": "E45FG6YkNPNM"
      },
      "execution_count": 36,
      "outputs": []
    },
    {
      "cell_type": "code",
      "source": [
        "divisori(56)"
      ],
      "metadata": {
        "colab": {
          "base_uri": "https://localhost:8080/"
        },
        "id": "OddQYqn1Ng_F",
        "outputId": "d8cabd77-6ebd-4aaf-e3f5-a7c30634801a"
      },
      "execution_count": 37,
      "outputs": [
        {
          "output_type": "execute_result",
          "data": {
            "text/plain": [
              "[1, 2, 4, 7, 8, 14, 28, 56]"
            ]
          },
          "metadata": {},
          "execution_count": 37
        }
      ]
    },
    {
      "cell_type": "code",
      "source": [
        "def numeroPrimo(numero):\n",
        "  if len(divisori(numero)) == 2:\n",
        "    return True\n",
        "  else:\n",
        "    return False"
      ],
      "metadata": {
        "id": "lh1RB9MeOJUH"
      },
      "execution_count": 38,
      "outputs": []
    },
    {
      "cell_type": "code",
      "source": [
        "numeroPrimo(6)"
      ],
      "metadata": {
        "colab": {
          "base_uri": "https://localhost:8080/"
        },
        "id": "ukJRRS_dOU5i",
        "outputId": "9556ac94-7873-4294-cb5f-c0ee5640e69a"
      },
      "execution_count": 40,
      "outputs": [
        {
          "output_type": "execute_result",
          "data": {
            "text/plain": [
              "False"
            ]
          },
          "metadata": {},
          "execution_count": 40
        }
      ]
    },
    {
      "cell_type": "markdown",
      "source": [
        "9. scrivere una funzione che calcoli il minimo comune multiplo di due numeri"
      ],
      "metadata": {
        "id": "FrUn_mFIOYn-"
      }
    },
    {
      "cell_type": "code",
      "source": [
        "def mcm(a, b):\n",
        "  if a % b == 0:\n",
        "    return max(a, b)\n",
        "  elif b % a == 0:\n",
        "    return max(a, b)\n",
        "  else:\n",
        "    return a * b"
      ],
      "metadata": {
        "id": "blp3oUJ2Occq"
      },
      "execution_count": 51,
      "outputs": []
    },
    {
      "cell_type": "code",
      "source": [
        "mcm(15, 4)"
      ],
      "metadata": {
        "colab": {
          "base_uri": "https://localhost:8080/"
        },
        "id": "BDyeTeESQTTv",
        "outputId": "f1b284e3-801a-441b-a7ac-fc033b20d2d2"
      },
      "execution_count": 53,
      "outputs": [
        {
          "output_type": "execute_result",
          "data": {
            "text/plain": [
              "60"
            ]
          },
          "metadata": {},
          "execution_count": 53
        }
      ]
    }
  ]
}