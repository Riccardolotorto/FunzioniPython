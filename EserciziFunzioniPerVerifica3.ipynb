{
  "nbformat": 4,
  "nbformat_minor": 0,
  "metadata": {
    "colab": {
      "provenance": [],
      "authorship_tag": "ABX9TyPIicxRHE9qsn7D8mkiVYw0",
      "include_colab_link": true
    },
    "kernelspec": {
      "name": "python3",
      "display_name": "Python 3"
    },
    "language_info": {
      "name": "python"
    }
  },
  "cells": [
    {
      "cell_type": "markdown",
      "metadata": {
        "id": "view-in-github",
        "colab_type": "text"
      },
      "source": [
        "<a href=\"https://colab.research.google.com/github/Riccardolotorto/FunzioniPython/blob/main/EserciziFunzioniPerVerifica3.ipynb\" target=\"_parent\"><img src=\"https://colab.research.google.com/assets/colab-badge.svg\" alt=\"Open In Colab\"/></a>"
      ]
    },
    {
      "cell_type": "markdown",
      "source": [
        "1. scrivi una funzione che pesca una carta a casa da un mazzo di 10 carte"
      ],
      "metadata": {
        "id": "QCNMi_YHVXi-"
      }
    },
    {
      "cell_type": "code",
      "execution_count": 1,
      "metadata": {
        "id": "D7mEIULbVS9k"
      },
      "outputs": [],
      "source": [
        "def carta():\n",
        "  import random\n",
        "  return random.randint(1, 10)"
      ]
    },
    {
      "cell_type": "code",
      "source": [
        "carta()"
      ],
      "metadata": {
        "colab": {
          "base_uri": "https://localhost:8080/"
        },
        "id": "o0jh_b4sV-tf",
        "outputId": "fc243ace-4e65-4450-e3ec-c3565ff9610e"
      },
      "execution_count": 3,
      "outputs": [
        {
          "output_type": "execute_result",
          "data": {
            "text/plain": [
              "4"
            ]
          },
          "metadata": {},
          "execution_count": 3
        }
      ]
    },
    {
      "cell_type": "markdown",
      "source": [
        "2. con la stessa funzione di prima, scrivine un'altra che peschi tre carte"
      ],
      "metadata": {
        "id": "Jevl72CbWAp1"
      }
    },
    {
      "cell_type": "code",
      "source": [
        "def treCarte():\n",
        "  return [carta(), carta(), carta()]"
      ],
      "metadata": {
        "id": "Zwp7f2qvWF3s"
      },
      "execution_count": 4,
      "outputs": []
    },
    {
      "cell_type": "code",
      "source": [
        "treCarte()"
      ],
      "metadata": {
        "colab": {
          "base_uri": "https://localhost:8080/"
        },
        "id": "-9C9HG-vWRfH",
        "outputId": "99fad1f3-d17a-4038-fe7d-3b6c9d9cb21e"
      },
      "execution_count": 5,
      "outputs": [
        {
          "output_type": "execute_result",
          "data": {
            "text/plain": [
              "[8, 9, 6]"
            ]
          },
          "metadata": {},
          "execution_count": 5
        }
      ]
    },
    {
      "cell_type": "markdown",
      "source": [
        "3. scrivi una funzione che controlli se i le carte siano maggiori di 5"
      ],
      "metadata": {
        "id": "756yRw-qWVuI"
      }
    },
    {
      "cell_type": "code",
      "source": [
        "def controllo(carte):\n",
        "  listaControllo = []\n",
        "  for i in range(len(carte)):\n",
        "    if carte[i] >= 5:\n",
        "      listaControllo.append(\"True\")\n",
        "    else:\n",
        "      listaControllo.append(\"False\")\n",
        "  return listaControllo"
      ],
      "metadata": {
        "id": "zpAQpi8mWbFh"
      },
      "execution_count": 9,
      "outputs": []
    },
    {
      "cell_type": "code",
      "source": [
        "controllo(treCarte())"
      ],
      "metadata": {
        "colab": {
          "base_uri": "https://localhost:8080/"
        },
        "id": "ua8Dp-KYY0rF",
        "outputId": "2b7d0497-6ef7-480b-94ea-328edb84d2d2"
      },
      "execution_count": 11,
      "outputs": [
        {
          "output_type": "execute_result",
          "data": {
            "text/plain": [
              "['True', 'False', 'True']"
            ]
          },
          "metadata": {},
          "execution_count": 11
        }
      ]
    },
    {
      "cell_type": "markdown",
      "source": [
        "4. scrivi una funzione che converta una misura da centimetri a metri"
      ],
      "metadata": {
        "id": "4vLvo0MVZMAC"
      }
    },
    {
      "cell_type": "code",
      "source": [
        "def metri(centimetri):\n",
        "  return centimetri / 100"
      ],
      "metadata": {
        "id": "UH2vUcDUZQmH"
      },
      "execution_count": 12,
      "outputs": []
    },
    {
      "cell_type": "code",
      "source": [
        "metri(56)"
      ],
      "metadata": {
        "colab": {
          "base_uri": "https://localhost:8080/"
        },
        "id": "xsaz2Mt5ZWc3",
        "outputId": "97dc1d52-458d-46dd-8c35-9c3a815a1fc8"
      },
      "execution_count": 14,
      "outputs": [
        {
          "output_type": "execute_result",
          "data": {
            "text/plain": [
              "0.56"
            ]
          },
          "metadata": {},
          "execution_count": 14
        }
      ]
    },
    {
      "cell_type": "markdown",
      "source": [
        "5. scrivi una funzione che converta una misura da metri a centimetri"
      ],
      "metadata": {
        "id": "egDa-J96Zap_"
      }
    },
    {
      "cell_type": "code",
      "source": [
        "def centimetri(metri):\n",
        "  return metri * 100"
      ],
      "metadata": {
        "id": "EfVc_GGbZe3R"
      },
      "execution_count": 15,
      "outputs": []
    },
    {
      "cell_type": "code",
      "source": [
        "centimetri(0.45)"
      ],
      "metadata": {
        "colab": {
          "base_uri": "https://localhost:8080/"
        },
        "id": "y6U08FOcZiNr",
        "outputId": "c8f1c3be-2d50-4729-9927-2f3d6db0fb3f"
      },
      "execution_count": 16,
      "outputs": [
        {
          "output_type": "execute_result",
          "data": {
            "text/plain": [
              "45.0"
            ]
          },
          "metadata": {},
          "execution_count": 16
        }
      ]
    },
    {
      "cell_type": "markdown",
      "source": [
        "6. scrivi una funzione che calcoli l'area di un trapezio"
      ],
      "metadata": {
        "id": "kpqzplSuZmk8"
      }
    },
    {
      "cell_type": "code",
      "source": [
        "def areaTrapezio(baseMaggiore, baseMinore, altezza):\n",
        "  return ((baseMaggiore + baseMinore) * altezza) / 2"
      ],
      "metadata": {
        "id": "fmShUoQ0Z4IZ"
      },
      "execution_count": 17,
      "outputs": []
    },
    {
      "cell_type": "code",
      "source": [
        "areaTrapezio(34, 56, 23)"
      ],
      "metadata": {
        "colab": {
          "base_uri": "https://localhost:8080/"
        },
        "id": "0m025Lp5aJVR",
        "outputId": "dd8b33c7-2987-4c4c-8f89-273738960e71"
      },
      "execution_count": 18,
      "outputs": [
        {
          "output_type": "execute_result",
          "data": {
            "text/plain": [
              "1035.0"
            ]
          },
          "metadata": {},
          "execution_count": 18
        }
      ]
    },
    {
      "cell_type": "markdown",
      "source": [
        "7. scrivi una funzione che calcoli la lunghezza di un'autostrada dando come parametri il range di minima e massima lunghezza"
      ],
      "metadata": {
        "id": "DMQDn5rPaTrS"
      }
    },
    {
      "cell_type": "code",
      "source": [
        "def autostrada(inzio, fine):\n",
        "  from random import randint\n",
        "  return randint(inzio, fine)"
      ],
      "metadata": {
        "id": "6zmu_lujbffF"
      },
      "execution_count": 19,
      "outputs": []
    },
    {
      "cell_type": "code",
      "source": [
        "autostrada(134, 795)"
      ],
      "metadata": {
        "colab": {
          "base_uri": "https://localhost:8080/"
        },
        "id": "VLGDEvEcbuP7",
        "outputId": "68ce984c-2a94-4ec4-bb5d-25819ba896ca"
      },
      "execution_count": 22,
      "outputs": [
        {
          "output_type": "execute_result",
          "data": {
            "text/plain": [
              "317"
            ]
          },
          "metadata": {},
          "execution_count": 22
        }
      ]
    },
    {
      "cell_type": "markdown",
      "source": [
        "8. scrivi una funzione che restituisca se un valore è multiplo di 4 o meno"
      ],
      "metadata": {
        "id": "LojlIhbfb2IC"
      }
    },
    {
      "cell_type": "code",
      "source": [
        "def multiploDi4(numero):\n",
        "  if numero % 4 == 0:\n",
        "    return True\n",
        "  else:\n",
        "    return False"
      ],
      "metadata": {
        "id": "v-i6EWnmcAPF"
      },
      "execution_count": 23,
      "outputs": []
    },
    {
      "cell_type": "code",
      "source": [
        "multiploDi4(16)"
      ],
      "metadata": {
        "colab": {
          "base_uri": "https://localhost:8080/"
        },
        "id": "AUkDuo3LcH_9",
        "outputId": "2f6a0164-dec5-4b75-972e-fa73f637fdba"
      },
      "execution_count": 25,
      "outputs": [
        {
          "output_type": "execute_result",
          "data": {
            "text/plain": [
              "True"
            ]
          },
          "metadata": {},
          "execution_count": 25
        }
      ]
    },
    {
      "cell_type": "markdown",
      "source": [
        "9. scrivi una funzione che dica se una squadra di calcio è italiana o inglese. Controllare poi se la squadra esiste veramente"
      ],
      "metadata": {
        "id": "VyHI0DSqcMm5"
      }
    },
    {
      "cell_type": "code",
      "source": [
        "def controlloSquadra(nomeSquadra):\n",
        "  italia = [\"inter\", \"milan\", \"roma\", \"lazio\", \"juventus\"]\n",
        "  inghilterra = [\"liverpool\", \"manchesterUnited\", \"manchesterCity\", \"brighton\", \"chelsea\", \"arsenal\"]\n",
        "  if nomeSquadra in italia or nomeSquadra in inghilterra:\n",
        "    if nomeSquadra in italia:\n",
        "      return \"Squadra italiana\"\n",
        "    else:\n",
        "      return \"Squadra inglese\"\n",
        "  else:\n",
        "    return \"Squadra non esistente\""
      ],
      "metadata": {
        "id": "MYv_9LZDcZfu"
      },
      "execution_count": 26,
      "outputs": []
    },
    {
      "cell_type": "code",
      "source": [
        "controlloSquadra(\"t\")"
      ],
      "metadata": {
        "colab": {
          "base_uri": "https://localhost:8080/",
          "height": 36
        },
        "id": "k3RilUpudpNb",
        "outputId": "b725880e-64e5-4a47-d732-90cfed82ff4e"
      },
      "execution_count": 30,
      "outputs": [
        {
          "output_type": "execute_result",
          "data": {
            "text/plain": [
              "'Squadra non esistente'"
            ],
            "application/vnd.google.colaboratory.intrinsic+json": {
              "type": "string"
            }
          },
          "metadata": {},
          "execution_count": 30
        }
      ]
    },
    {
      "cell_type": "markdown",
      "source": [
        "10. scrivi una funzione che converta una misura da ampere a milliampere"
      ],
      "metadata": {
        "id": "LMDSDwetd-QP"
      }
    },
    {
      "cell_type": "code",
      "source": [
        "def milliampere(ampere):\n",
        "  return ampere * 1000"
      ],
      "metadata": {
        "id": "0ApkTMqGeQSX"
      },
      "execution_count": 31,
      "outputs": []
    },
    {
      "cell_type": "code",
      "source": [
        "milliampere(0.045)"
      ],
      "metadata": {
        "colab": {
          "base_uri": "https://localhost:8080/"
        },
        "id": "DGwBINwOeU0x",
        "outputId": "27e3e1c1-f8e6-464b-bad3-2ad19e8955d8"
      },
      "execution_count": 32,
      "outputs": [
        {
          "output_type": "execute_result",
          "data": {
            "text/plain": [
              "45.0"
            ]
          },
          "metadata": {},
          "execution_count": 32
        }
      ]
    },
    {
      "cell_type": "markdown",
      "source": [
        "11. scrivi una funzione che trovi il minimo comune multiplo (mcm) tra due numeri"
      ],
      "metadata": {
        "id": "ds-pjBDBnIxm"
      }
    },
    {
      "cell_type": "code",
      "source": [
        "def trova_mcm(a, b):\n",
        "    maggiore = max(a, b)\n",
        "    while True:\n",
        "        if maggiore % a == 0 and maggiore % b == 0:\n",
        "            return maggiore\n",
        "        maggiore += 1"
      ],
      "metadata": {
        "id": "KLTQ6IdPogfN"
      },
      "execution_count": 33,
      "outputs": []
    },
    {
      "cell_type": "code",
      "source": [
        "trova_mcm(5, 15)"
      ],
      "metadata": {
        "colab": {
          "base_uri": "https://localhost:8080/"
        },
        "id": "k4O1tvLGoloN",
        "outputId": "310e696f-d58c-4ffc-9185-410324956179"
      },
      "execution_count": 35,
      "outputs": [
        {
          "output_type": "execute_result",
          "data": {
            "text/plain": [
              "15"
            ]
          },
          "metadata": {},
          "execution_count": 35
        }
      ]
    },
    {
      "cell_type": "markdown",
      "source": [
        "12. scrivi una funzione che trovi la circonferenza di un cerchio"
      ],
      "metadata": {
        "id": "1cpWiG-MrY7V"
      }
    },
    {
      "cell_type": "code",
      "source": [
        "def circonferenza(diametro):\n",
        "  return diametro * 3.14"
      ],
      "metadata": {
        "id": "SR-aaC_dshh_"
      },
      "execution_count": 42,
      "outputs": []
    },
    {
      "cell_type": "code",
      "source": [
        "circonferenza(12)"
      ],
      "metadata": {
        "colab": {
          "base_uri": "https://localhost:8080/"
        },
        "id": "xG_IQX12sqFs",
        "outputId": "278b574f-506f-4f9c-b9c4-bfdfb3fa1473"
      },
      "execution_count": 43,
      "outputs": [
        {
          "output_type": "execute_result",
          "data": {
            "text/plain": [
              "37.68"
            ]
          },
          "metadata": {},
          "execution_count": 43
        }
      ]
    },
    {
      "cell_type": "markdown",
      "source": [
        "13. scrivi una funzione che calcoli l'area del cerchio"
      ],
      "metadata": {
        "id": "M6JRVC2LtSzq"
      }
    },
    {
      "cell_type": "code",
      "source": [
        "def areaCerchio(raggio):\n",
        "  return (raggio**2) * 3.14"
      ],
      "metadata": {
        "id": "WLHtJZbTtSUV"
      },
      "execution_count": 44,
      "outputs": []
    },
    {
      "cell_type": "code",
      "source": [
        "areaCerchio(6)"
      ],
      "metadata": {
        "colab": {
          "base_uri": "https://localhost:8080/"
        },
        "id": "4wFqRkxatgIc",
        "outputId": "a23ff8d0-cf00-4c17-f709-34105c3b5d96"
      },
      "execution_count": 45,
      "outputs": [
        {
          "output_type": "execute_result",
          "data": {
            "text/plain": [
              "113.04"
            ]
          },
          "metadata": {},
          "execution_count": 45
        }
      ]
    },
    {
      "cell_type": "markdown",
      "source": [
        "14. scrivi una funzione che calcoli il volume di un cilindro"
      ],
      "metadata": {
        "id": "fQuq1IHJt46N"
      }
    },
    {
      "cell_type": "code",
      "source": [
        "def volumeCilindro(diametro, altezza):\n",
        "  return circonferenza(diametro) * altezza"
      ],
      "metadata": {
        "id": "FtDsWCldt9KH"
      },
      "execution_count": 46,
      "outputs": []
    },
    {
      "cell_type": "code",
      "source": [
        "volumeCilindro(12, 15)"
      ],
      "metadata": {
        "colab": {
          "base_uri": "https://localhost:8080/"
        },
        "id": "IKa5TPkxuMDN",
        "outputId": "eed8f4b5-728f-4a06-f046-c94bac1976f3"
      },
      "execution_count": 47,
      "outputs": [
        {
          "output_type": "execute_result",
          "data": {
            "text/plain": [
              "565.2"
            ]
          },
          "metadata": {},
          "execution_count": 47
        }
      ]
    },
    {
      "cell_type": "markdown",
      "source": [
        "15. scrivi funzione che calcoli la potenza di due numeri"
      ],
      "metadata": {
        "id": "kZ2FQDAWuS_y"
      }
    },
    {
      "cell_type": "code",
      "source": [
        "def potenza(base, esponente):\n",
        "  return base**esponente"
      ],
      "metadata": {
        "id": "_qXH0eP1uXsd"
      },
      "execution_count": 48,
      "outputs": []
    },
    {
      "cell_type": "code",
      "source": [
        "potenza(3, 4)"
      ],
      "metadata": {
        "colab": {
          "base_uri": "https://localhost:8080/"
        },
        "id": "Eg65gGY0ue73",
        "outputId": "80186221-07d5-4458-abe6-659b3810f641"
      },
      "execution_count": 49,
      "outputs": [
        {
          "output_type": "execute_result",
          "data": {
            "text/plain": [
              "81"
            ]
          },
          "metadata": {},
          "execution_count": 49
        }
      ]
    },
    {
      "cell_type": "markdown",
      "source": [
        "16. scrivi funzione che elimini i duplicati da una lista"
      ],
      "metadata": {
        "id": "reofbgQYvYx_"
      }
    },
    {
      "cell_type": "code",
      "source": [
        "def noDuplicati(lista):\n",
        "  return list(set(lista))"
      ],
      "metadata": {
        "id": "sKfSViQ6wHmN"
      },
      "execution_count": 50,
      "outputs": []
    },
    {
      "cell_type": "code",
      "source": [
        "noDuplicati([1, 2, 3, 1, 2, 3])"
      ],
      "metadata": {
        "colab": {
          "base_uri": "https://localhost:8080/"
        },
        "id": "6pHZ-YREwMQ-",
        "outputId": "75a69d9d-8c3a-402d-8f68-0a157d7aa5ca"
      },
      "execution_count": 51,
      "outputs": [
        {
          "output_type": "execute_result",
          "data": {
            "text/plain": [
              "[1, 2, 3]"
            ]
          },
          "metadata": {},
          "execution_count": 51
        }
      ]
    },
    {
      "cell_type": "markdown",
      "source": [
        "17. scrivi una funzione che controlli se la risposta è corretta. La domanda è: qual è la capitale della Spagna?"
      ],
      "metadata": {
        "id": "vVAfUKYpwvAe"
      }
    },
    {
      "cell_type": "code",
      "source": [
        "def spagna(rispostaUtente, rispostaEsatta):\n",
        "  if rispostaUtente == rispostaEsatta:\n",
        "    print(\"Bravo, hai indovinato\")\n",
        "  else:\n",
        "    print(\"Riprova\")"
      ],
      "metadata": {
        "id": "QUyRSbAExEXF"
      },
      "execution_count": 52,
      "outputs": []
    },
    {
      "cell_type": "code",
      "source": [
        "risposta = input(\"inserisci la tua risposta: \")\n",
        "spagna(risposta, \"Madrid\")"
      ],
      "metadata": {
        "colab": {
          "base_uri": "https://localhost:8080/"
        },
        "id": "uC5ZAAwexVDh",
        "outputId": "8289b22f-570f-4068-93c8-e54344e6c76b"
      },
      "execution_count": 55,
      "outputs": [
        {
          "output_type": "stream",
          "name": "stdout",
          "text": [
            "inserisci la tua risposta: Madrid\n",
            "Bravo, hai indovinato\n"
          ]
        }
      ]
    }
  ]
}