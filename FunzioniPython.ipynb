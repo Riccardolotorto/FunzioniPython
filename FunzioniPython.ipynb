{
  "nbformat": 4,
  "nbformat_minor": 0,
  "metadata": {
    "colab": {
      "provenance": [],
      "collapsed_sections": [
        "L9enz4DSCWf7",
        "BZ51AX1GBzsL"
      ]
    },
    "kernelspec": {
      "name": "python3",
      "display_name": "Python 3"
    },
    "language_info": {
      "name": "python"
    }
  },
  "cells": [
    {
      "cell_type": "markdown",
      "source": [
        "#FUNZIONI"
      ],
      "metadata": {
        "id": "L9enz4DSCWf7"
      }
    },
    {
      "cell_type": "markdown",
      "source": [
        "**Funzioni python**"
      ],
      "metadata": {
        "id": "uL2Zr9bO51Wz"
      }
    },
    {
      "cell_type": "code",
      "source": [
        "#Una funzione è un blocco di istruzioni progettate per eseguire un'attività specifica\n",
        "#Ogni funzione si usa per riutilizzare per evitare di riscrivere da capo le istruzioni"
      ],
      "metadata": {
        "id": "DiYHwvm86jG0"
      },
      "execution_count": null,
      "outputs": []
    },
    {
      "cell_type": "code",
      "execution_count": null,
      "metadata": {
        "id": "NHZcGVu-5aSy"
      },
      "outputs": [],
      "source": [
        "#esempi di funzioni sono print e cicli di controllo, ma si possono creare delle funzioni personalizzate"
      ]
    },
    {
      "cell_type": "code",
      "source": [
        "#richiamando una funzione, vuol dire rendere il codice più compatto e leggibile\n",
        "#Inoltre, se ti accorgi di aver fatto un errore, puoi sistemarlo sono una volta e non tutte le volte che il codice verrebbe copiato"
      ],
      "metadata": {
        "id": "70YsXasG6-tb"
      },
      "execution_count": null,
      "outputs": []
    },
    {
      "cell_type": "code",
      "source": [
        "#Ogni funzione ha un nome per essere richiamata e dei dati chiamati parametri"
      ],
      "metadata": {
        "id": "IarMKBrp7iZK"
      },
      "execution_count": null,
      "outputs": []
    },
    {
      "cell_type": "code",
      "source": [
        "#Per creare una funzione in Python si scrive def + nome della funzione + coppia di parentesi che contengono delle variabili chiamate parametri"
      ],
      "metadata": {
        "id": "k4kYB5pc7r2T"
      },
      "execution_count": null,
      "outputs": []
    },
    {
      "cell_type": "code",
      "source": [
        "#Esempio 1 (senza parametri)\n",
        "def dici_il_mio_nome():\n",
        "  nome = input(\"Come ti chiami? \")\n",
        "  print(\"Il tuo nome è: \" + nome)"
      ],
      "metadata": {
        "id": "0BjBQ2Fw75YF"
      },
      "execution_count": null,
      "outputs": []
    },
    {
      "cell_type": "code",
      "source": [
        "#richiamo la funzione\n",
        "dici_il_mio_nome()"
      ],
      "metadata": {
        "colab": {
          "base_uri": "https://localhost:8080/"
        },
        "id": "L5YleCaT8J3a",
        "outputId": "329a8c0e-2371-461e-d929-36d165ed65df"
      },
      "execution_count": null,
      "outputs": [
        {
          "output_type": "stream",
          "name": "stdout",
          "text": [
            "Come ti chiami? Riccardo\n",
            "Il tuo nome è: Riccardo\n"
          ]
        }
      ]
    },
    {
      "cell_type": "code",
      "source": [
        "#Esempio 2 (con parametri)\n",
        "def addizione(a, b):\n",
        "  print(\"Addizione\")\n",
        "  risultato = a + b\n",
        "  print(\"Il risultato dell'operazione é: \" + str(risultato))"
      ],
      "metadata": {
        "id": "I8jpHYOE8PX8"
      },
      "execution_count": null,
      "outputs": []
    },
    {
      "cell_type": "code",
      "source": [
        "#richiamo la funzione inserendo dei parametri\n",
        "addizione(2, 3)"
      ],
      "metadata": {
        "colab": {
          "base_uri": "https://localhost:8080/"
        },
        "id": "GImeUasr9DED",
        "outputId": "3fe4b8b7-c06a-41b6-c6ec-a48bc3542120"
      },
      "execution_count": null,
      "outputs": [
        {
          "output_type": "stream",
          "name": "stdout",
          "text": [
            "Addizione\n",
            "Il risultato dell'operazione é: 5\n"
          ]
        }
      ]
    },
    {
      "cell_type": "code",
      "source": [
        "#Esempio 2 (con parametri opzionali)\n",
        "def addizione2(a, b = 1):\n",
        "  print(\"Addizione\")\n",
        "  risultato = a + b\n",
        "  print(\"Il risultato dell'operazione é: \" + str(risultato))"
      ],
      "metadata": {
        "id": "OHDwDhb1-O9K"
      },
      "execution_count": null,
      "outputs": []
    },
    {
      "cell_type": "code",
      "source": [
        "#richiamo la funzione inserendo solo un parametro (questo perchè b ha già un valore di default)\n",
        "addizione2(10)  #se inserisci solo un parametro, mi somma codesto a quell'altro parametro (che è = 0)"
      ],
      "metadata": {
        "colab": {
          "base_uri": "https://localhost:8080/"
        },
        "id": "ed8BnGRG-Vkq",
        "outputId": "cf7774d9-a26b-4255-f73f-41783f903c69"
      },
      "execution_count": null,
      "outputs": [
        {
          "output_type": "stream",
          "name": "stdout",
          "text": [
            "Addizione\n",
            "Il risultato dell'operazione é: 11\n"
          ]
        }
      ]
    },
    {
      "cell_type": "code",
      "source": [
        "#Esempio 3 (senza print; con return)\n",
        "def addizione_senza_prin(aa, bb):\n",
        "  somma = aa + bb\n",
        "  return somma"
      ],
      "metadata": {
        "id": "7TdOuoQYAeJD"
      },
      "execution_count": null,
      "outputs": []
    },
    {
      "cell_type": "code",
      "source": [
        "#Richiamo la funzione e salvo il valore della somma dentro una variabile e la mostro\n",
        "risultato2 = addizione_senza_prin(10, 20)\n",
        "print(risultato2)"
      ],
      "metadata": {
        "colab": {
          "base_uri": "https://localhost:8080/"
        },
        "id": "osWzf20XAzu8",
        "outputId": "58efee05-4938-44b0-d2a3-421f5766359a"
      },
      "execution_count": null,
      "outputs": [
        {
          "output_type": "stream",
          "name": "stdout",
          "text": [
            "30\n"
          ]
        }
      ]
    },
    {
      "cell_type": "markdown",
      "source": [
        "#esercizio"
      ],
      "metadata": {
        "id": "BZ51AX1GBzsL"
      }
    },
    {
      "cell_type": "markdown",
      "source": [
        "1. scrivi una funzione che prende due numeri come parametro e manda in print il più grande tra i due. Usare if, elif e Else e non usare la funzione max()."
      ],
      "metadata": {
        "id": "0YZL4WN8HZgb"
      }
    },
    {
      "cell_type": "code",
      "source": [
        "def massimo(a, b):\n",
        "  if a > b:\n",
        "    valore_massimo = a\n",
        "  else:\n",
        "    valore_massimo = b\n",
        "  return valore_massimo\n",
        "print(massimo(10, 20))"
      ],
      "metadata": {
        "colab": {
          "base_uri": "https://localhost:8080/"
        },
        "id": "DgA4Lr75IBnD",
        "outputId": "d59a989b-6e6e-4078-f08f-f7ff646843c5"
      },
      "execution_count": 1,
      "outputs": [
        {
          "output_type": "stream",
          "name": "stdout",
          "text": [
            "20\n"
          ]
        }
      ]
    },
    {
      "cell_type": "markdown",
      "source": [
        "2. usare la funzione precedentemente creata per scriverne un'altra che trova il massimo tra tre valori"
      ],
      "metadata": {
        "id": "uI5K5EgRKlnD"
      }
    },
    {
      "cell_type": "code",
      "source": [
        "def massimo3classico(a, b, c):\n",
        "  if a > b and a > b:\n",
        "    valore_massimo = a\n",
        "  elif b > a and b > c:\n",
        "    valore_massimo = b\n",
        "  elif c > a and c > b:\n",
        "    valore_massimo = c\n",
        "  return valore_massimo\n",
        "print(massimo3classico(2, 3, 4))"
      ],
      "metadata": {
        "colab": {
          "base_uri": "https://localhost:8080/"
        },
        "id": "t5Ui7HbqML0b",
        "outputId": "2202e7ba-d8ff-44a6-c6fc-4c4225f58e5a"
      },
      "execution_count": null,
      "outputs": [
        {
          "output_type": "stream",
          "name": "stdout",
          "text": [
            "4\n"
          ]
        }
      ]
    },
    {
      "cell_type": "code",
      "source": [
        "def massimo3(a, b, c):\n",
        "  return massimo(massimo(a, b), c)\n",
        "print(massimo3(5, 7, 9))"
      ],
      "metadata": {
        "colab": {
          "base_uri": "https://localhost:8080/"
        },
        "id": "936smaqxKzIC",
        "outputId": "45a48c17-81a7-429e-ecd6-38600adf3db2"
      },
      "execution_count": 2,
      "outputs": [
        {
          "output_type": "stream",
          "name": "stdout",
          "text": [
            "9\n"
          ]
        }
      ]
    },
    {
      "cell_type": "markdown",
      "source": [
        "3. scrivere una funzione che trovi il massimo tra 4 numeri. Usare la funzione massimo3"
      ],
      "metadata": {
        "id": "u2YjoNJjMAOr"
      }
    },
    {
      "cell_type": "code",
      "source": [
        "def massimo4(a, b, c, d):\n",
        "  return massimo(massimo3(a, b, c), d)\n",
        "print(massimo4(10, 20, 30 , 40))"
      ],
      "metadata": {
        "colab": {
          "base_uri": "https://localhost:8080/"
        },
        "id": "N-mlHOHiNALD",
        "outputId": "38922e98-f9a2-4dcf-fae0-f07915db11d7"
      },
      "execution_count": 3,
      "outputs": [
        {
          "output_type": "stream",
          "name": "stdout",
          "text": [
            "40\n"
          ]
        }
      ]
    },
    {
      "cell_type": "code",
      "source": [
        "def massimo4(a, b, c, d):\n",
        "  return massimo(massimo(a, b), massimo(c, d))\n",
        "print(massimo4(10, 20, 30 , 40))"
      ],
      "metadata": {
        "colab": {
          "base_uri": "https://localhost:8080/"
        },
        "id": "XLWY14LrPuGL",
        "outputId": "f4b3b85d-2dbb-4598-be71-adacfb101851"
      },
      "execution_count": 4,
      "outputs": [
        {
          "output_type": "stream",
          "name": "stdout",
          "text": [
            "40\n"
          ]
        }
      ]
    },
    {
      "cell_type": "markdown",
      "source": [
        "4. scrivere una funzione che trovi il massimo di una lista"
      ],
      "metadata": {
        "id": "RzSGWlcdQV1P"
      }
    },
    {
      "cell_type": "code",
      "source": [
        "lista = [100, 200, 300, 400]"
      ],
      "metadata": {
        "id": "4mCACpVXQZiE"
      },
      "execution_count": 5,
      "outputs": []
    },
    {
      "cell_type": "code",
      "source": [
        "lista2 = [300, 1000, 3, 1]"
      ],
      "metadata": {
        "id": "HLwqzzZuocZP"
      },
      "execution_count": 10,
      "outputs": []
    },
    {
      "cell_type": "code",
      "source": [
        "def massimoLista(list):\n",
        "  max = 0\n",
        "  for i in range(len(list)):\n",
        "    if list[i] > max:\n",
        "      max = list[i]\n",
        "  return max\n",
        "print(massimoLista(lista2))"
      ],
      "metadata": {
        "colab": {
          "base_uri": "https://localhost:8080/"
        },
        "id": "6ujKAXKzn7Xx",
        "outputId": "050da67f-f4f1-4ea1-e4d2-905c5e2cb0ea"
      },
      "execution_count": 11,
      "outputs": [
        {
          "output_type": "stream",
          "name": "stdout",
          "text": [
            "1000\n"
          ]
        }
      ]
    }
  ]
}