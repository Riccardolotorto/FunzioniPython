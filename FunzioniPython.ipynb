{
  "cells": [
    {
      "cell_type": "markdown",
      "metadata": {
        "id": "view-in-github",
        "colab_type": "text"
      },
      "source": [
        "<a href=\"https://colab.research.google.com/github/Riccardolotorto/FunzioniPython/blob/main/FunzioniPython.ipynb\" target=\"_parent\"><img src=\"https://colab.research.google.com/assets/colab-badge.svg\" alt=\"Open In Colab\"/></a>"
      ]
    },
    {
      "cell_type": "markdown",
      "metadata": {
        "id": "L9enz4DSCWf7"
      },
      "source": [
        "#FUNZIONI"
      ]
    },
    {
      "cell_type": "markdown",
      "metadata": {
        "id": "uL2Zr9bO51Wz"
      },
      "source": [
        "**Funzioni python**"
      ]
    },
    {
      "cell_type": "code",
      "execution_count": null,
      "metadata": {
        "id": "DiYHwvm86jG0"
      },
      "outputs": [],
      "source": [
        "#Una funzione è un blocco di istruzioni progettate per eseguire un'attività specifica\n",
        "#Ogni funzione si usa per riutilizzare per evitare di riscrivere da capo le istruzioni"
      ]
    },
    {
      "cell_type": "code",
      "execution_count": null,
      "metadata": {
        "id": "NHZcGVu-5aSy"
      },
      "outputs": [],
      "source": [
        "#esempi di funzioni sono print e cicli di controllo, ma si possono creare delle funzioni personalizzate"
      ]
    },
    {
      "cell_type": "code",
      "execution_count": null,
      "metadata": {
        "id": "70YsXasG6-tb"
      },
      "outputs": [],
      "source": [
        "#richiamando una funzione, vuol dire rendere il codice più compatto e leggibile\n",
        "#Inoltre, se ti accorgi di aver fatto un errore, puoi sistemarlo sono una volta e non tutte le volte che il codice verrebbe copiato"
      ]
    },
    {
      "cell_type": "code",
      "execution_count": null,
      "metadata": {
        "id": "IarMKBrp7iZK"
      },
      "outputs": [],
      "source": [
        "#Ogni funzione ha un nome per essere richiamata e dei dati chiamati parametri"
      ]
    },
    {
      "cell_type": "code",
      "execution_count": null,
      "metadata": {
        "id": "k4kYB5pc7r2T"
      },
      "outputs": [],
      "source": [
        "#Per creare una funzione in Python si scrive def + nome della funzione + coppia di parentesi che contengono delle variabili chiamate parametri"
      ]
    },
    {
      "cell_type": "code",
      "execution_count": null,
      "metadata": {
        "id": "0BjBQ2Fw75YF"
      },
      "outputs": [],
      "source": [
        "#Esempio 1 (senza parametri)\n",
        "def dici_il_mio_nome():\n",
        "  nome = input(\"Come ti chiami? \")\n",
        "  print(\"Il tuo nome è: \" + nome)"
      ]
    },
    {
      "cell_type": "code",
      "execution_count": null,
      "metadata": {
        "colab": {
          "base_uri": "https://localhost:8080/"
        },
        "id": "L5YleCaT8J3a",
        "outputId": "329a8c0e-2371-461e-d929-36d165ed65df"
      },
      "outputs": [
        {
          "name": "stdout",
          "output_type": "stream",
          "text": [
            "Come ti chiami? Riccardo\n",
            "Il tuo nome è: Riccardo\n"
          ]
        }
      ],
      "source": [
        "#richiamo la funzione\n",
        "dici_il_mio_nome()"
      ]
    },
    {
      "cell_type": "code",
      "execution_count": null,
      "metadata": {
        "id": "I8jpHYOE8PX8"
      },
      "outputs": [],
      "source": [
        "#Esempio 2 (con parametri)\n",
        "def addizione(a, b):\n",
        "  print(\"Addizione\")\n",
        "  risultato = a + b\n",
        "  print(\"Il risultato dell'operazione é: \" + str(risultato))"
      ]
    },
    {
      "cell_type": "code",
      "execution_count": null,
      "metadata": {
        "colab": {
          "base_uri": "https://localhost:8080/"
        },
        "id": "GImeUasr9DED",
        "outputId": "3fe4b8b7-c06a-41b6-c6ec-a48bc3542120"
      },
      "outputs": [
        {
          "name": "stdout",
          "output_type": "stream",
          "text": [
            "Addizione\n",
            "Il risultato dell'operazione é: 5\n"
          ]
        }
      ],
      "source": [
        "#richiamo la funzione inserendo dei parametri\n",
        "addizione(2, 3)"
      ]
    },
    {
      "cell_type": "code",
      "execution_count": null,
      "metadata": {
        "id": "OHDwDhb1-O9K"
      },
      "outputs": [],
      "source": [
        "#Esempio 2 (con parametri opzionali)\n",
        "def addizione2(a, b = 1):\n",
        "  print(\"Addizione\")\n",
        "  risultato = a + b\n",
        "  print(\"Il risultato dell'operazione é: \" + str(risultato))"
      ]
    },
    {
      "cell_type": "code",
      "execution_count": null,
      "metadata": {
        "colab": {
          "base_uri": "https://localhost:8080/"
        },
        "id": "ed8BnGRG-Vkq",
        "outputId": "cf7774d9-a26b-4255-f73f-41783f903c69"
      },
      "outputs": [
        {
          "name": "stdout",
          "output_type": "stream",
          "text": [
            "Addizione\n",
            "Il risultato dell'operazione é: 11\n"
          ]
        }
      ],
      "source": [
        "#richiamo la funzione inserendo solo un parametro (questo perchè b ha già un valore di default)\n",
        "addizione2(10)  #se inserisci solo un parametro, mi somma codesto a quell'altro parametro (che è = 0)"
      ]
    },
    {
      "cell_type": "code",
      "execution_count": null,
      "metadata": {
        "id": "7TdOuoQYAeJD"
      },
      "outputs": [],
      "source": [
        "#Esempio 3 (senza print; con return)\n",
        "def addizione_senza_prin(aa, bb):\n",
        "  somma = aa + bb\n",
        "  return somma"
      ]
    },
    {
      "cell_type": "code",
      "execution_count": null,
      "metadata": {
        "colab": {
          "base_uri": "https://localhost:8080/"
        },
        "id": "osWzf20XAzu8",
        "outputId": "58efee05-4938-44b0-d2a3-421f5766359a"
      },
      "outputs": [
        {
          "name": "stdout",
          "output_type": "stream",
          "text": [
            "30\n"
          ]
        }
      ],
      "source": [
        "#Richiamo la funzione e salvo il valore della somma dentro una variabile e la mostro\n",
        "risultato2 = addizione_senza_prin(10, 20)\n",
        "print(risultato2)"
      ]
    },
    {
      "cell_type": "markdown",
      "metadata": {
        "id": "BZ51AX1GBzsL"
      },
      "source": [
        "#esercizio"
      ]
    },
    {
      "cell_type": "markdown",
      "metadata": {
        "id": "0YZL4WN8HZgb"
      },
      "source": [
        "1. scrivi una funzione che prende due numeri come parametro e manda in print il più grande tra i due. Usare if, elif e Else e non usare la funzione max()."
      ]
    },
    {
      "cell_type": "code",
      "execution_count": null,
      "metadata": {
        "colab": {
          "base_uri": "https://localhost:8080/"
        },
        "id": "DgA4Lr75IBnD",
        "outputId": "d59a989b-6e6e-4078-f08f-f7ff646843c5"
      },
      "outputs": [
        {
          "name": "stdout",
          "output_type": "stream",
          "text": [
            "20\n"
          ]
        }
      ],
      "source": [
        "def massimo(a, b):\n",
        "  if a > b:\n",
        "    valore_massimo = a\n",
        "  else:\n",
        "    valore_massimo = b\n",
        "  return valore_massimo\n",
        "print(massimo(10, 20))"
      ]
    },
    {
      "cell_type": "markdown",
      "metadata": {
        "id": "uI5K5EgRKlnD"
      },
      "source": [
        "2. usare la funzione precedentemente creata per scriverne un'altra che trova il massimo tra tre valori"
      ]
    },
    {
      "cell_type": "code",
      "execution_count": null,
      "metadata": {
        "colab": {
          "base_uri": "https://localhost:8080/"
        },
        "id": "t5Ui7HbqML0b",
        "outputId": "2202e7ba-d8ff-44a6-c6fc-4c4225f58e5a"
      },
      "outputs": [
        {
          "name": "stdout",
          "output_type": "stream",
          "text": [
            "4\n"
          ]
        }
      ],
      "source": [
        "def massimo3classico(a, b, c):\n",
        "  if a > b and a > b:\n",
        "    valore_massimo = a\n",
        "  elif b > a and b > c:\n",
        "    valore_massimo = b\n",
        "  elif c > a and c > b:\n",
        "    valore_massimo = c\n",
        "  return valore_massimo\n",
        "print(massimo3classico(2, 3, 4))"
      ]
    },
    {
      "cell_type": "code",
      "execution_count": null,
      "metadata": {
        "colab": {
          "base_uri": "https://localhost:8080/"
        },
        "id": "936smaqxKzIC",
        "outputId": "45a48c17-81a7-429e-ecd6-38600adf3db2"
      },
      "outputs": [
        {
          "name": "stdout",
          "output_type": "stream",
          "text": [
            "9\n"
          ]
        }
      ],
      "source": [
        "def massimo3(a, b, c):\n",
        "  return massimo(massimo(a, b), c)\n",
        "print(massimo3(5, 7, 9))"
      ]
    },
    {
      "cell_type": "markdown",
      "metadata": {
        "id": "u2YjoNJjMAOr"
      },
      "source": [
        "3. scrivere una funzione che trovi il massimo tra 4 numeri. Usare la funzione massimo3"
      ]
    },
    {
      "cell_type": "code",
      "execution_count": null,
      "metadata": {
        "colab": {
          "base_uri": "https://localhost:8080/"
        },
        "id": "N-mlHOHiNALD",
        "outputId": "38922e98-f9a2-4dcf-fae0-f07915db11d7"
      },
      "outputs": [
        {
          "name": "stdout",
          "output_type": "stream",
          "text": [
            "40\n"
          ]
        }
      ],
      "source": [
        "def massimo4(a, b, c, d):\n",
        "  return massimo(massimo3(a, b, c), d)\n",
        "print(massimo4(10, 20, 30 , 40))"
      ]
    },
    {
      "cell_type": "code",
      "execution_count": null,
      "metadata": {
        "colab": {
          "base_uri": "https://localhost:8080/"
        },
        "id": "XLWY14LrPuGL",
        "outputId": "f4b3b85d-2dbb-4598-be71-adacfb101851"
      },
      "outputs": [
        {
          "name": "stdout",
          "output_type": "stream",
          "text": [
            "40\n"
          ]
        }
      ],
      "source": [
        "def massimo4(a, b, c, d):\n",
        "  return massimo(massimo(a, b), massimo(c, d))\n",
        "print(massimo4(10, 20, 30 , 40))"
      ]
    },
    {
      "cell_type": "markdown",
      "metadata": {
        "id": "RzSGWlcdQV1P"
      },
      "source": [
        "4. scrivere una funzione che trovi il massimo di una lista"
      ]
    },
    {
      "cell_type": "code",
      "execution_count": null,
      "metadata": {
        "id": "4mCACpVXQZiE"
      },
      "outputs": [],
      "source": [
        "lista = [100, 200, 300, 400]"
      ]
    },
    {
      "cell_type": "code",
      "execution_count": null,
      "metadata": {
        "id": "HLwqzzZuocZP"
      },
      "outputs": [],
      "source": [
        "lista2 = [300, 1000, 3, 1]"
      ]
    },
    {
      "cell_type": "code",
      "execution_count": null,
      "metadata": {
        "colab": {
          "base_uri": "https://localhost:8080/"
        },
        "id": "6ujKAXKzn7Xx",
        "outputId": "2760da72-c42a-4031-b9c1-bf14700a2e24"
      },
      "outputs": [
        {
          "name": "stdout",
          "output_type": "stream",
          "text": [
            "1000\n"
          ]
        }
      ],
      "source": [
        "def massimoLista(list):\n",
        "  max = list[0]\n",
        "  for i in range(len(list)):\n",
        "    if list[i] > max:\n",
        "      max = list[i]\n",
        "  return max\n",
        "print(massimoLista(lista2))"
      ]
    },
    {
      "cell_type": "code",
      "execution_count": null,
      "metadata": {
        "colab": {
          "base_uri": "https://localhost:8080/"
        },
        "id": "-aygMPE0ZMbm",
        "outputId": "46c671d0-17f3-4340-dbb1-6b83f06a155b"
      },
      "outputs": [
        {
          "name": "stdout",
          "output_type": "stream",
          "text": [
            "1000\n"
          ]
        }
      ],
      "source": [
        "#metodo finessi \n",
        "def massimoLista(list):\n",
        "  max = list[0]\n",
        "  for i in list:\n",
        "    if i > max:\n",
        "      max = i\n",
        "  return max\n",
        "print(massimoLista(lista2))"
      ]
    },
    {
      "cell_type": "markdown",
      "metadata": {
        "id": "1BCTAOYuanzu"
      },
      "source": [
        "5. scrivere una funzione a cui viene passato un carattere e essa deve dire se il carattere è una vocale o una consonante"
      ]
    },
    {
      "cell_type": "code",
      "execution_count": null,
      "metadata": {
        "colab": {
          "base_uri": "https://localhost:8080/"
        },
        "id": "hIpSJxlVdiQf",
        "outputId": "c58cd489-28ed-41df-e9e8-a9c8b21cc502"
      },
      "outputs": [
        {
          "name": "stdout",
          "output_type": "stream",
          "text": [
            "False\n"
          ]
        }
      ],
      "source": [
        "def voc(carattere):\n",
        "  if carattere.lower() in [\"a\", \"e\", \"i\", \"o\", \"u\"]:    #lower() trasforma i caratteri in minuscolo\n",
        "    return True\n",
        "  else:\n",
        "    return False\n",
        "print(voc(\"g\"))"
      ]
    },
    {
      "cell_type": "markdown",
      "metadata": {
        "id": "4plyzHQkje3W"
      },
      "source": [
        "6. scrivere un programma che dica se il carattere inserito si tratta di una vocale o di una consonante"
      ]
    },
    {
      "cell_type": "code",
      "execution_count": null,
      "metadata": {
        "colab": {
          "base_uri": "https://localhost:8080/"
        },
        "id": "lIoAGmdXjm8O",
        "outputId": "8e49625e-40cc-4dde-b49e-8d4b2079053e"
      },
      "outputs": [
        {
          "name": "stdout",
          "output_type": "stream",
          "text": [
            "Inserisci un carattere: g\n",
            "consonante\n"
          ]
        }
      ],
      "source": [
        "inputUtente = input(\"Inserisci un carattere: \")\n",
        "print(\"vocale\") if voc(inputUtente) else print(\"consonante\")"
      ]
    },
    {
      "cell_type": "markdown",
      "metadata": {
        "id": "4zSpACcyklw3"
      },
      "source": [
        "7. scrivere una funzione che faccia da somma tra due numeri interi"
      ]
    },
    {
      "cell_type": "code",
      "execution_count": null,
      "metadata": {
        "colab": {
          "base_uri": "https://localhost:8080/"
        },
        "id": "u4D6ctZJlx2v",
        "outputId": "96bea6e3-2060-4276-b55b-f15a35a4d655"
      },
      "outputs": [
        {
          "output_type": "stream",
          "name": "stdout",
          "text": [
            "-11\n"
          ]
        }
      ],
      "source": [
        "def somma(a, b):\n",
        "  somma = a + b\n",
        "  return somma\n",
        "print(somma(-5, -6))"
      ]
    },
    {
      "cell_type": "code",
      "execution_count": null,
      "metadata": {
        "colab": {
          "base_uri": "https://localhost:8080/"
        },
        "id": "Ki8kstIen-kO",
        "outputId": "a5ed123d-fc25-47c3-e820-7f249c84c843"
      },
      "outputs": [
        {
          "name": "stdout",
          "output_type": "stream",
          "text": [
            "[1, 2, 3, 4, 7, 8, 9]\n"
          ]
        }
      ],
      "source": [
        "print(somma([1, 2, 3, 4], [7, 8, 9]))"
      ]
    },
    {
      "cell_type": "code",
      "execution_count": null,
      "metadata": {
        "colab": {
          "base_uri": "https://localhost:8080/"
        },
        "id": "8fXC5KhHoMqW",
        "outputId": "c39f9866-58a0-48ba-ba38-8abd6909900b"
      },
      "outputs": [
        {
          "name": "stdout",
          "output_type": "stream",
          "text": [
            "abcxyz\n"
          ]
        }
      ],
      "source": [
        "print(somma(\"abc\", \"xyz\"))"
      ]
    },
    {
      "cell_type": "code",
      "execution_count": null,
      "metadata": {
        "colab": {
          "base_uri": "https://localhost:8080/"
        },
        "id": "7CM6FnOnoQP2",
        "outputId": "1c672ca3-00a2-4c6e-d1f8-eadd74655adf"
      },
      "outputs": [
        {
          "name": "stdout",
          "output_type": "stream",
          "text": [
            "20.5\n"
          ]
        }
      ],
      "source": [
        "print(somma(10, 10.5))"
      ]
    },
    {
      "cell_type": "markdown",
      "metadata": {
        "id": "qu0Ytch3lxH-"
      },
      "source": [
        "8. utilizzare la funzione precedente per scrivere una funzione che faccia da somma di tre numeri interi"
      ]
    },
    {
      "cell_type": "code",
      "execution_count": null,
      "metadata": {
        "colab": {
          "base_uri": "https://localhost:8080/"
        },
        "id": "NQgWEZGCl4RH",
        "outputId": "7f82bbbb-52b5-4e38-f495-c0d5ce18f00b"
      },
      "outputs": [
        {
          "name": "stdout",
          "output_type": "stream",
          "text": [
            "60\n"
          ]
        }
      ],
      "source": [
        "def somma3(a, b, c):\n",
        "  return somma(somma(a, b), c)\n",
        "print(somma3(10, 20 , 30))"
      ]
    },
    {
      "cell_type": "markdown",
      "metadata": {
        "id": "NsLIyoaxl4fe"
      },
      "source": [
        "9. scrivere una funzione chiamata prodotto che faccia il prodotto di due numeri inseriti dall'utente, usando la funzione somma creata precedentemente"
      ]
    },
    {
      "cell_type": "code",
      "execution_count": null,
      "metadata": {
        "colab": {
          "base_uri": "https://localhost:8080/"
        },
        "id": "gjSHkW59mIWG",
        "outputId": "65b61adc-7c2f-4f86-8c78-133d285903a3"
      },
      "outputs": [
        {
          "output_type": "stream",
          "name": "stdout",
          "text": [
            "56\n"
          ]
        }
      ],
      "source": [
        "def prodotto(a, b):\n",
        "  moltiplicazione = a * b\n",
        "  return moltiplicazione\n",
        "print(prodotto(8, 7))"
      ]
    },
    {
      "cell_type": "code",
      "execution_count": null,
      "metadata": {
        "colab": {
          "base_uri": "https://localhost:8080/"
        },
        "id": "Y-V0k4eEox11",
        "outputId": "2891c24c-6f7f-4082-be66-f5c2163a2eb5"
      },
      "outputs": [
        {
          "name": "stdout",
          "output_type": "stream",
          "text": [
            "15\n"
          ]
        }
      ],
      "source": [
        "def prodottoSomma(a, b):\n",
        "  x = a\n",
        "  for i in range(b-1):       #b-1 vuol dire che nel for prende fino al penultimo numero \n",
        "    x = somma(x, a)\n",
        "  return x\n",
        "print(prodottoSomma(5, 3))"
      ]
    },
    {
      "cell_type": "markdown",
      "metadata": {
        "id": "29YjGYJgmIk3"
      },
      "source": [
        "10. scrivere la funzione MCD che calcoli il massimo comun divisore tra due numeri "
      ]
    },
    {
      "cell_type": "code",
      "execution_count": null,
      "metadata": {
        "colab": {
          "base_uri": "https://localhost:8080/"
        },
        "id": "E-8017fomRA2",
        "outputId": "66317e58-b58c-411a-b323-d4235dfd3292"
      },
      "outputs": [
        {
          "output_type": "stream",
          "name": "stdout",
          "text": [
            "3\n"
          ]
        }
      ],
      "source": [
        "def MCD(a, b):\n",
        "  MassimoComunDivisore = 1\n",
        "  for x in (n+1 for n in range(b)):\n",
        "    if a % x == 0 and b % x == 0:\n",
        "      MassimoComunDivisore = x\n",
        "  return MassimoComunDivisore \n",
        "print(MCD(123, 54))"
      ]
    },
    {
      "cell_type": "markdown",
      "metadata": {
        "id": "cIp0Sy2BmRO-"
      },
      "source": [
        "11. scrivere la funzione mcm che calcoli il minimo comume multiplo tra due numeri"
      ]
    },
    {
      "cell_type": "code",
      "execution_count": null,
      "metadata": {
        "id": "r8Sf7L1dmaG-",
        "colab": {
          "base_uri": "https://localhost:8080/"
        },
        "outputId": "86babc5e-b91e-431a-ec89-9f29d1a8d445"
      },
      "outputs": [
        {
          "output_type": "stream",
          "name": "stdout",
          "text": [
            "8.0\n"
          ]
        }
      ],
      "source": [
        "def mcm(a, b):\n",
        "  Minimocomunemultiplo = 0\n",
        "  Minimocomunemultiplo = (a * b) / MCD(a, b)\n",
        "  return Minimocomunemultiplo\n",
        "print(mcm(4, 8))"
      ]
    },
    {
      "cell_type": "markdown",
      "metadata": {
        "id": "QNi2fh_smaVt"
      },
      "source": [
        "12. Semplifica: semplifica una frazione "
      ]
    },
    {
      "cell_type": "code",
      "source": [
        "#mio metodo\n",
        "def semplifica(a, b, c = 0, d = 0):\n",
        "  frazione = str(a / MCD(a, b)) + \" / \" + str(b / MCD(a, b))\n",
        "  return frazione\n",
        "print(semplifica(16, 12))"
      ],
      "metadata": {
        "colab": {
          "base_uri": "https://localhost:8080/"
        },
        "id": "z6SMPEPz2lzy",
        "outputId": "645e8caa-e5de-44e5-fbaf-3d5f373774f7"
      },
      "execution_count": null,
      "outputs": [
        {
          "output_type": "stream",
          "name": "stdout",
          "text": [
            "4.0 / 3.0\n"
          ]
        }
      ]
    },
    {
      "cell_type": "code",
      "source": [
        "#altro metodo\n",
        "def semplifica_frazione(numeratore, denominatore):\n",
        "  return numeratore // MCD(numeratore, denominatore), denominatore // MCD(numeratore, denominatore)"
      ],
      "metadata": {
        "id": "tEhFlWlSVgNM"
      },
      "execution_count": null,
      "outputs": []
    },
    {
      "cell_type": "code",
      "source": [
        "print(semplifica_frazione(12, 16))"
      ],
      "metadata": {
        "colab": {
          "base_uri": "https://localhost:8080/"
        },
        "id": "LTC8x-5xV4XH",
        "outputId": "90727e27-05dc-4bcd-dcf9-02f36b3466f3"
      },
      "execution_count": null,
      "outputs": [
        {
          "output_type": "stream",
          "name": "stdout",
          "text": [
            "(3, 4)\n"
          ]
        }
      ]
    },
    {
      "cell_type": "markdown",
      "metadata": {
        "id": "mEg55-MzmnH9"
      },
      "source": [
        "13. scrivere una funzione che permetta di fare la somma tra due frazioni dando il risultato semplificato\n"
      ]
    },
    {
      "cell_type": "code",
      "execution_count": null,
      "metadata": {
        "id": "6QdnYkIemvsF",
        "colab": {
          "base_uri": "https://localhost:8080/"
        },
        "outputId": "0c0a9218-4564-414f-f406-56539981385d"
      },
      "outputs": [
        {
          "output_type": "stream",
          "name": "stdout",
          "text": [
            "149 / 30.0\n"
          ]
        }
      ],
      "source": [
        "#mio metodo\n",
        "def sommaFrazioni(a, b, c, d):\n",
        "  risultatoSomma = str(int((mcm(b, d) / b) * a) + int((mcm(b, d) / d) * c)) + \" / \" + str(mcm(b, d))\n",
        "  return risultatoSomma\n",
        "print(sommaFrazioni(13, 6, 14, 5))"
      ]
    },
    {
      "cell_type": "code",
      "source": [
        "#altro metodo\n",
        "def somma_frazioni(frazione1, frazione2):\n",
        "    numeratore1, denominatore1 = frazione1\n",
        "    numeratore2, denominatore2 = frazione2\n",
        "    denominatore_comune = denominatore1 * denominatore2\n",
        "    numeratore_somma = numeratore1 * denominatore2 + numeratore2 * denominatore1\n",
        "    return numeratore_somma // MCD(numeratore_somma, denominatore_comune), denominatore_comune // MCD(numeratore_somma, denominatore_comune)"
      ],
      "metadata": {
        "id": "n4J5Lnt9WGZP"
      },
      "execution_count": null,
      "outputs": []
    },
    {
      "cell_type": "code",
      "source": [
        "print(somma_frazioni((7, 9), (14, 9)))"
      ],
      "metadata": {
        "colab": {
          "base_uri": "https://localhost:8080/"
        },
        "id": "vQZ_dS04WkmJ",
        "outputId": "83a6390d-d0e6-4c2f-eec2-1eb0b9be3373"
      },
      "execution_count": null,
      "outputs": [
        {
          "output_type": "stream",
          "name": "stdout",
          "text": [
            "(7, 3)\n"
          ]
        }
      ]
    },
    {
      "cell_type": "markdown",
      "metadata": {
        "id": "QxUO-NULmx-N"
      },
      "source": [
        "14. scrivere una funzione che permetta di fare il prodotto tra due frazioni dando il risultato semplificato "
      ]
    },
    {
      "cell_type": "code",
      "execution_count": null,
      "metadata": {
        "id": "rG21XiLtm7D2",
        "colab": {
          "base_uri": "https://localhost:8080/"
        },
        "outputId": "8aec9d54-54de-4d78-aba3-6627d1c4759f"
      },
      "outputs": [
        {
          "output_type": "stream",
          "name": "stdout",
          "text": [
            "149 / 30.0\n"
          ]
        }
      ],
      "source": [
        "#mio metodo\n",
        "def prodottoFrazioni(a, b, c, d):\n",
        "  risultatoSomma = str(a * c) + \" / \" + str(b * d)\n",
        "  return risultatoSomma\n",
        "print(sommaFrazioni(13, 6, 14, 5))"
      ]
    },
    {
      "cell_type": "code",
      "source": [
        "#altro metodo\n",
        "def prodotto_frazioni(frazione1, frazione2):\n",
        "    numeratore1, denominatore1 = frazione1\n",
        "    numeratore2, denominatore2 = frazione2\n",
        "    denominatore_totale = denominatore1 * denominatore2\n",
        "    numeratore_totale = numeratore1 * numeratore2\n",
        "    return numeratore_totale // MCD(numeratore_totale, denominatore_totale), denominatore_totale // MCD(numeratore_totale, denominatore_totale)"
      ],
      "metadata": {
        "id": "q7BL8ogfYJU-"
      },
      "execution_count": null,
      "outputs": []
    },
    {
      "cell_type": "code",
      "source": [
        "print(prodotto_frazioni((16, 9), (9, 6)))"
      ],
      "metadata": {
        "colab": {
          "base_uri": "https://localhost:8080/"
        },
        "id": "SogkE2OrYhQL",
        "outputId": "0d4d5091-e770-4d3f-9546-6ceb5e7dfa02"
      },
      "execution_count": null,
      "outputs": [
        {
          "output_type": "stream",
          "name": "stdout",
          "text": [
            "(8, 3)\n"
          ]
        }
      ]
    },
    {
      "cell_type": "markdown",
      "metadata": {
        "id": "szxK_iBBm7U2"
      },
      "source": [
        "15. scrivere una funzione che permetta di fare la divisione tra due frazioni dando il risultato semplificato "
      ]
    },
    {
      "cell_type": "code",
      "execution_count": null,
      "metadata": {
        "id": "heAZTrFcnAev"
      },
      "outputs": [],
      "source": [
        "def quoziente_frazioni(frazione1, frazione2):\n",
        "    numeratore1, denominatore1 = frazione1\n",
        "    numeratore2, denominatore2 = frazione2\n",
        "    denominatore_totale = denominatore1 * numeratore2\n",
        "    numeratore_totale = numeratore1 * denominatore2\n",
        "    return numeratore_totale // MCD(numeratore_totale, denominatore_totale), denominatore_totale // MCD(numeratore_totale, denominatore_totale)"
      ]
    },
    {
      "cell_type": "code",
      "source": [
        "print(quoziente_frazioni((6, 8), (2, 4)))"
      ],
      "metadata": {
        "colab": {
          "base_uri": "https://localhost:8080/"
        },
        "id": "2ylwt3SKZOjJ",
        "outputId": "af3fc1a5-62f7-4938-aa48-a3db3f4a36d4"
      },
      "execution_count": null,
      "outputs": [
        {
          "output_type": "stream",
          "name": "stdout",
          "text": [
            "(3, 2)\n"
          ]
        }
      ]
    },
    {
      "cell_type": "markdown",
      "source": [
        "#NoneType (dato nullo)"
      ],
      "metadata": {
        "id": "RuCUgpNzaOWz"
      }
    },
    {
      "cell_type": "code",
      "source": [
        "#se dopo il return non inseriamo nulla, python restituisce un tipo di dato nullo (null: NoneType)"
      ],
      "metadata": {
        "id": "JGVnuzsBaQDL"
      },
      "execution_count": null,
      "outputs": []
    },
    {
      "cell_type": "code",
      "source": [
        "def addizione(a, b):\n",
        "  risultato = a + b"
      ],
      "metadata": {
        "id": "_5-mdwJcas-D"
      },
      "execution_count": null,
      "outputs": []
    },
    {
      "cell_type": "code",
      "source": [
        "somma = addizione(3, 6)\n",
        "print(somma)\n",
        "print(type(somma))  #l'output della funzione sarà null perché nella funzione non viene restituito nessun valore con return"
      ],
      "metadata": {
        "colab": {
          "base_uri": "https://localhost:8080/"
        },
        "id": "MwOK1-l8a7wT",
        "outputId": "977ddd12-12ca-4e3d-b590-761afd02e1cb"
      },
      "execution_count": null,
      "outputs": [
        {
          "output_type": "stream",
          "name": "stdout",
          "text": [
            "None\n",
            "<class 'NoneType'>\n"
          ]
        }
      ]
    },
    {
      "cell_type": "markdown",
      "source": [
        "#variabili nelle funzioni"
      ],
      "metadata": {
        "id": "EMOrpiCscxLj"
      }
    },
    {
      "cell_type": "code",
      "source": [
        "#una variabile può essere anche inizializzata fuori dalla funzione, ma lo stesso leggibile da essa \n",
        "x = 15\n",
        "def funzione_esempio():\n",
        "  return x\n",
        "print(funzione_esempio())"
      ],
      "metadata": {
        "colab": {
          "base_uri": "https://localhost:8080/"
        },
        "id": "hEiYSnahc0nU",
        "outputId": "54ea1b2d-81ab-4b94-e7c2-9c523f914a1a"
      },
      "execution_count": null,
      "outputs": [
        {
          "output_type": "stream",
          "name": "stdout",
          "text": [
            "15\n"
          ]
        }
      ]
    },
    {
      "cell_type": "code",
      "source": [
        "#Global scope: la variabile è dichiarata nell'ambito globale (cioè utilizzabile da tutto il programma). Essa funziona dall'avvio allo spegnimento del programma\n",
        "#Local scope: la variabile è dichiarata all'interno di una singola variabile e quindi gestibile solo da essa. Essa funziona solo quando viene richiamata la funzione che la contiene."
      ],
      "metadata": {
        "id": "b5UFViUieyYb"
      },
      "execution_count": null,
      "outputs": []
    },
    {
      "cell_type": "code",
      "source": [
        "#se proviamo a modificare la variabile x ci verrà mostrato un messaggio di errore, dato che x è una variabile di tipo globale\n",
        "x = 15\n",
        "def funzione_esempio2():\n",
        "  x = x + 2   \n",
        "  return x\n",
        "print(funzione_esempio2())"
      ],
      "metadata": {
        "id": "1HSRXSOherBT"
      },
      "execution_count": null,
      "outputs": []
    },
    {
      "cell_type": "code",
      "source": [
        "#per modificare una variabile all'interno di una funzione, che non è inizializzata all'interno di essa, usiamo l'istruzione gloab\n",
        "x = 15\n",
        "def funzione_esempio3():\n",
        "  global x\n",
        "  x = x + 2   \n",
        "  return x\n",
        "print(funzione_esempio3())"
      ],
      "metadata": {
        "colab": {
          "base_uri": "https://localhost:8080/"
        },
        "id": "kwyuIYGKfsOE",
        "outputId": "37f2b044-94e4-45fb-8500-b615b4139435"
      },
      "execution_count": null,
      "outputs": [
        {
          "output_type": "stream",
          "name": "stdout",
          "text": [
            "17\n"
          ]
        }
      ]
    },
    {
      "cell_type": "markdown",
      "source": [
        "#esercizi"
      ],
      "metadata": {
        "id": "7lSPRjLf_uCE"
      }
    },
    {
      "cell_type": "markdown",
      "source": [
        "**es 1**"
      ],
      "metadata": {
        "id": "4CmMhRNiAugM"
      }
    },
    {
      "cell_type": "code",
      "source": [
        "def controllo(rispostaUtente, rispostaGiusta):\n",
        "  if rispostaUtente == rispostaGiusta:\n",
        "    return \"Bravo\"\n",
        "  else:\n",
        "    return \"Studia di più\""
      ],
      "metadata": {
        "id": "ply5DoFiD-tb"
      },
      "execution_count": 33,
      "outputs": []
    },
    {
      "cell_type": "code",
      "source": [
        "print(controllo(input(\"chi ha scritto i promessi sposi? \"), \"Manzoni\"))\n",
        "print(controllo(input(\"chi ha scritto la divina commedia? \"), \"Dante\"))"
      ],
      "metadata": {
        "colab": {
          "base_uri": "https://localhost:8080/"
        },
        "id": "IAjNFT-8H0qM",
        "outputId": "6326da01-41fe-452f-df34-72dea316df3f"
      },
      "execution_count": 40,
      "outputs": [
        {
          "output_type": "stream",
          "name": "stdout",
          "text": [
            "chi ha scritto i promessi sposi? Manzoni\n",
            "Bravo\n",
            "chi ha scritto la divina commedia? gffg\n",
            "Studia di più\n"
          ]
        }
      ]
    },
    {
      "cell_type": "markdown",
      "source": [
        "**es 2**"
      ],
      "metadata": {
        "id": "zAJLSjSSJw2b"
      }
    },
    {
      "cell_type": "code",
      "source": [
        "def lista_tuple(list):\n",
        "  lista2 = [(list[i], i) for i in range(len(list))]\n",
        "  return lista2"
      ],
      "metadata": {
        "id": "T0GsOp1_JzQN"
      },
      "execution_count": 72,
      "outputs": []
    },
    {
      "cell_type": "code",
      "source": [
        "lista = [4, 4, 5, 6, 7]\n",
        "print(lista_tuple(lista))"
      ],
      "metadata": {
        "colab": {
          "base_uri": "https://localhost:8080/"
        },
        "id": "bhNQD6lROALc",
        "outputId": "a9eef00b-8e10-423e-a49e-f6a8cf3b541c"
      },
      "execution_count": 73,
      "outputs": [
        {
          "output_type": "stream",
          "name": "stdout",
          "text": [
            "[(4, 0), (4, 1), (5, 2), (6, 3), (7, 4)]\n"
          ]
        }
      ]
    },
    {
      "cell_type": "markdown",
      "source": [
        "**es 3**"
      ],
      "metadata": {
        "id": "vs0oQZfHRsT8"
      }
    },
    {
      "cell_type": "code",
      "source": [
        "def lista_dizionari(list):\n",
        "  dizionario = {list[i]: list.count(list[i]) for i in range(len(list))}\n",
        "  return dizionario"
      ],
      "metadata": {
        "id": "iAu-1-1XRvv_"
      },
      "execution_count": 75,
      "outputs": []
    },
    {
      "cell_type": "code",
      "source": [
        "listaStringhe = [\"ciao\", \"mondo\", \"ciao\", \"mondo\", \"mondo\"]\n",
        "print(lista_dizionari(listaStringhe))"
      ],
      "metadata": {
        "colab": {
          "base_uri": "https://localhost:8080/"
        },
        "id": "911OfmmzSH-0",
        "outputId": "a7a4dc43-7781-4886-a8b4-3715c3840877"
      },
      "execution_count": 76,
      "outputs": [
        {
          "output_type": "stream",
          "name": "stdout",
          "text": [
            "{'ciao': 2, 'mondo': 3}\n"
          ]
        }
      ]
    },
    {
      "cell_type": "code",
      "source": [
        "#metodo personalizzato\n",
        "def conta_parole(list):\n",
        "  count = 0\n",
        "  for element in list:\n",
        "    count += 1\n",
        "  risultato = {list[i]: count for i in range(len(list))}\n",
        "  return risultato"
      ],
      "metadata": {
        "id": "SjZY8lmAVOx8"
      },
      "execution_count": 80,
      "outputs": []
    },
    {
      "cell_type": "code",
      "source": [
        "listaStringhe = [\"ciao\", \"mondo\", \"ciao\", \"mondo\", \"mondo\"]\n",
        "print(conta_parole(listaStringhe))"
      ],
      "metadata": {
        "colab": {
          "base_uri": "https://localhost:8080/"
        },
        "id": "JyFqdkiRW8Wr",
        "outputId": "482d49a2-7046-4850-c34d-045635ba36dd"
      },
      "execution_count": 81,
      "outputs": [
        {
          "output_type": "stream",
          "name": "stdout",
          "text": [
            "{'ciao': 5, 'mondo': 5}\n"
          ]
        }
      ]
    },
    {
      "cell_type": "code",
      "source": [
        "def prova(list):\n",
        "  risultato = {}\n",
        "  for parola in list:\n",
        "    if parola in risultato:\n",
        "      risultato[parola] += 1\n",
        "    else:\n",
        "      risultato[parola] = 1\n",
        "  return risultato"
      ],
      "metadata": {
        "id": "9TIWCu7gXKp7"
      },
      "execution_count": 82,
      "outputs": []
    }
  ],
  "metadata": {
    "colab": {
      "collapsed_sections": [
        "L9enz4DSCWf7",
        "BZ51AX1GBzsL",
        "RuCUgpNzaOWz",
        "EMOrpiCscxLj"
      ],
      "provenance": [],
      "authorship_tag": "ABX9TyOHslNwPXBzHSQu4v3x3Wvs",
      "include_colab_link": true
    },
    "kernelspec": {
      "display_name": "Python 3",
      "name": "python3"
    },
    "language_info": {
      "name": "python"
    }
  },
  "nbformat": 4,
  "nbformat_minor": 0
}